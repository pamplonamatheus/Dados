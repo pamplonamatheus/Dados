{
 "cells": [
  {
   "cell_type": "markdown",
   "metadata": {},
   "source": [
    "___\n",
    "# Atividade: Modelos probabilísticos discretos e Dados\n",
    "___\n",
    "\n",
    "## Aula 10\n",
    "\n",
    "**Referência de Leitura:**\n",
    "1. Magalhães e Lima (7ª. Edição): Seções 3.2 e 3.3\n",
    "\n",
    "**Hoje:**\n",
    "1.\tDescrever modelos discretos quanto aos resultados teóricos.\n",
    "2.\tExplicar a utilização de modelos probabilísticos no contexto da literatura estatística.\n",
    "3.\tContrastar resultados teóricos e empíricos.\n",
    "4.\tFechamento do conteúdo.\n",
    "\n",
    "**Próxima aula:**\n",
    "1. Leitura prévia necessária: Magalhães e Lima (7ª. Edição): Seção 5.1 (pág. 137) e Seção 5.2 (pág. 146).\n",
    "___"
   ]
  },
  {
   "cell_type": "code",
   "execution_count": 55,
   "metadata": {
    "collapsed": true
   },
   "outputs": [],
   "source": [
    "%matplotlib inline\n",
    "import pandas as pd\n",
    "import matplotlib.pyplot as plt\n",
    "\n",
    "from scipy import stats #importa apenas as funções de estatísticas da biblioteca SciPy.\n",
    "import itertools #importante para gerar todos os resultados possíveis!!\n"
   ]
  },
  {
   "cell_type": "markdown",
   "metadata": {},
   "source": [
    "___\n",
    "## <font color='blue'>Exercício 2</font> \n",
    "\n",
    "### <font color='red'>**Publicar no github até dia 21/03 INDIVIDUAL **</font>\n",
    "\n",
    "Esse exercício irá explorar uma modelagem de dados reais.\n",
    "\n",
    "> **Confira alguns itens obrigatórios verificados durante a vistoria do Detran**\n",
    "\n",
    "> *Todos os veículos, novos ou velhos, precisam passar por uma vistoria todos os anos. (...) O motorista precisa estar atento a alguns itens obrigatórios. Tudo deve funcionar perfeitamente, apresentar bom estado de conservação e estar dentro do prazo de validade.*\n",
    "\n",
    "> <sup>Fonte: http://extra.globo.com/noticias/brasil/transito-seguro/confira-alguns-itens-obrigatorios-verificados-durante-vistoria-do-detran-10190355.html</sup>\n",
    "\n",
    "Essa matéria lista 14 itens que são inspecionados pelo Detran, dentre os quais têm-se: extintor de incêndio deve estar dentro do prazo de validade; pneus devem estar em bom estado de conservação; buzina deve funcionar perfeitamente; e cintos de segurança para todos os ocupantes do carro. Se, no final das contas, todos os 14 itens estiverem funcionando perfeitamente, o motorista irá feliz para casa assegurado de que seu carro está sem problemas com a vistoria.\n",
    "\n",
    "1. A base de dados `Carros.txt` apresenta, para cada um dos três mil carros de passeio vistoriados, duas informações: tipo de carro (1: Popular e 2: Não Popular) e quantidade de itens vistoriados em não conformidade (que pode variar de 0 a 14). \n",
    "    1. Considerando todos os carros, analise a quantidade de itens vistoriados em não conformidade. Pela tabela de frequências relativas, calcule a média e variância dessa quantidade. Interprete-os.\n",
    "    2. Assuma que a variável *Quantidade de itens em não conformidade* possa ser ajustada pelo modelo Binomial com parâmetros $n=14$ e $p=0,10$. Interprete esses parâmetros para o problema em questão e, ainda, discuta se as propriedades da distribuição Binomial estão satisfeitas para o problema aqui me questão.\n",
    "    \n",
    "    **Independente da sua resposta anterior, considere que a distribuição binomial seja adequada para modelar a variável de interesse nos próximos itens!**\n",
    "    3. Utilizando o método `stats.binom.pmf`, obtenha a probabilidade de cada uma das quantidades de itens em não conformidade quando $n=14$ e $p=0,10$. Calcule o valor esperado e a variância da quantidade de itens em não conformidade utilizando o método `stats.binom.stats` e via resultado da Tabela 4.4 do Magalhães e Lima (pág. 125).\n",
    "    4. Compare as probabilidades teóricas com as frequências relativas observadas nos dados. Para isso, tem-se, por exemplo, as duas opções abaixo para comparar se os resultados empíricos se encaixam com o modelo teórico proposto. \n",
    "        - A primeira opção gráfica contrasta a frequência relativa e a probabilidade teórica para uma determinada quantidade de itens em não conformidade! Vide Figura 3.4 do livro Magalhães e Lima (pág. 87). Ou seja, essa opção contrasta a frequência relativa em um valor de $y$ e a probabilidade pontual $P(Y=y)$.\n",
    "        - A segunda contrasta a frequência relativa acumulada com a probabilidade acumulada até determinada quantidade de itens em não conformidade. Ou seja, compara a frequência relativa acumulada até $y$ com a probabilidade acumulada $P(Y\\leq y)$.\n",
    "    Construa os gráficos de acordo com as duas opções e refine sua conclusão quanto ao uso do modelo teórico para ajustar a variável em questão!\n",
    "    5. Na prática, qual a necessidade de um modelo probabilístico já que se têm os dados observados?\n",
    "    6. Considerando apenas os carros populares, o modelo Binomial com parâmetros $n=14$ e $p=0,10$ é adequado para ajustar a variável Quantidade de itens em não conformidade? Se sim, justifique; caso não, sugira novos valores para os parâmetros da distribuição ajuste aos dados."
   ]
  },
  {
   "cell_type": "code",
   "execution_count": 65,
   "metadata": {
    "collapsed": false
   },
   "outputs": [
    {
     "name": "stdout",
     "output_type": "stream",
     "text": [
      "Esperamos trabalhar no diretório\n",
      "C:\\Users\\Matheus\\Documents\\GitHub\\Dados\n"
     ]
    }
   ],
   "source": [
    "import os\n",
    "print('Esperamos trabalhar no diretório')\n",
    "print(os.getcwd())\n",
    "carros = pd.read_table('Carros.txt', sep=' ')"
   ]
  },
  {
   "cell_type": "markdown",
   "metadata": {},
   "source": [
    "-------------------\n",
    "A\n",
    "---------------"
   ]
  },
  {
   "cell_type": "code",
   "execution_count": 66,
   "metadata": {
    "collapsed": true
   },
   "outputs": [],
   "source": [
    "marca = pd.read_table('Carros.txt', sep=' ')"
   ]
  },
  {
   "cell_type": "code",
   "execution_count": 67,
   "metadata": {
    "collapsed": false
   },
   "outputs": [
    {
     "name": "stdout",
     "output_type": "stream",
     "text": [
      "1    0.316667\n",
      "0    0.288000\n",
      "2    0.221333\n",
      "3    0.108333\n",
      "4    0.046333\n",
      "5    0.015667\n",
      "6    0.002667\n",
      "7    0.000667\n",
      "8    0.000333\n",
      "Name: Quantidade, dtype: float64\n"
     ]
    }
   ],
   "source": [
    "p1 = marca.Quantidade.value_counts(True) \n",
    "\n",
    "print(p1)\n",
    "\n",
    "tabela1 = [1,0,2,3,4,5,6,7,8]"
   ]
  },
  {
   "cell_type": "code",
   "execution_count": 68,
   "metadata": {
    "collapsed": false
   },
   "outputs": [
    {
     "name": "stdout",
     "output_type": "stream",
     "text": [
      "1.3713340000000003\n"
     ]
    }
   ],
   "source": [
    "#calculando a esperança de acordo com os valores recebidos em p1\n",
    "Media = 0*0.288000 + 1*0.316667 + 2*0.221333 + 3*0.108333 +4*0.046333 +5*0.015667 +6*0.002667 +7*0.000667 +8*0.000333\n",
    "\n",
    "print(Media)"
   ]
  },
  {
   "cell_type": "code",
   "execution_count": 69,
   "metadata": {
    "collapsed": true
   },
   "outputs": [],
   "source": [
    "variancia = 0\n",
    "for i in range(0,9):\n",
    "    x = ((i - Media)**2)*p1[i]\n",
    "    variancia += x"
   ]
  },
  {
   "cell_type": "code",
   "execution_count": 70,
   "metadata": {
    "collapsed": false
   },
   "outputs": [
    {
     "data": {
      "text/plain": [
       "1.5794448888893333"
      ]
     },
     "execution_count": 70,
     "metadata": {},
     "output_type": "execute_result"
    }
   ],
   "source": [
    "variancia"
   ]
  },
  {
   "cell_type": "markdown",
   "metadata": {},
   "source": [
    "------\n",
    "B\n",
    "-------"
   ]
  },
  {
   "cell_type": "code",
   "execution_count": 71,
   "metadata": {
    "collapsed": false
   },
   "outputs": [
    {
     "name": "stdout",
     "output_type": "stream",
     "text": [
      "0 falhas:  0.2287679245 \n",
      "1 falha:  0.3558612160 \n",
      "2 falhas:  0.2570108782 \n",
      "3 falhas:  0.1142270570 \n",
      "4 falhas:  0.0349027119 \n",
      "5 falhas:  0.0077561582 \n",
      "6 falhas:  0.0012926930 \n",
      "7 falhas:  0.0001641515 \n",
      "8 falhas:  0.0000159592 \n",
      "9 falhas:  0.0000011822 \n",
      "10 falhas:  0.0000000657 \n",
      "11 falhas:  0.0000000027 \n",
      "12 falhas:  0.0000000001 \n",
      "13 falhas:  0.0000000000 \n",
      "14 falhas:  0.0000000000 \n"
     ]
    }
   ],
   "source": [
    "P0 = stats.binom.pmf(0, 14, 0.1)\n",
    "P1 = stats.binom.pmf(1, 14, 0.1)\n",
    "P2 = stats.binom.pmf(2, 14, 0.1)\n",
    "P3 = stats.binom.pmf(3, 14, 0.1)\n",
    "P4 = stats.binom.pmf(4, 14, 0.1)\n",
    "P5 = stats.binom.pmf(5, 14, 0.1)\n",
    "P6 = stats.binom.pmf(6, 14, 0.1)\n",
    "P7 = stats.binom.pmf(7, 14, 0.1)\n",
    "P8 = stats.binom.pmf(8, 14, 0.1)\n",
    "P9 = stats.binom.pmf(9, 14, 0.1)\n",
    "P10 = stats.binom.pmf(10, 14, 0.1)\n",
    "P11 = stats.binom.pmf(11, 14, 0.1)\n",
    "P12 = stats.binom.pmf(12, 14, 0.1)\n",
    "P13 = stats.binom.pmf(13, 14, 0.1)\n",
    "P14 = stats.binom.pmf(14, 14, 0.1)\n",
    "print(\"0 falhas: \", \"%6.10f \"%P0)\n",
    "print(\"1 falha: \", \"%6.10f \"%P1)\n",
    "print(\"2 falhas: \", \"%6.10f \"%P2)\n",
    "print(\"3 falhas: \", \"%6.10f \"%P3)\n",
    "print(\"4 falhas: \", \"%6.10f \"%P4)\n",
    "print(\"5 falhas: \", \"%6.10f \"%P5)\n",
    "print(\"6 falhas: \", \"%6.10f \"%P6)\n",
    "print(\"7 falhas: \", \"%6.10f \"%P7)\n",
    "print(\"8 falhas: \", \"%6.10f \"%P8)\n",
    "print(\"9 falhas: \", \"%6.10f \"%P9)\n",
    "print(\"10 falhas: \", \"%6.10f \"%P10)\n",
    "print(\"11 falhas: \", \"%6.10f \"%P11)\n",
    "print(\"12 falhas: \", \"%6.10f \"%P12)\n",
    "print(\"13 falhas: \", \"%6.10f \"%P13)\n",
    "print(\"14 falhas: \", \"%6.10f \"%P14)\n",
    "\n",
    "lista1 = [P0,P1,P2,P3,P4,P5,P6,P7,P8,P9,P10,P11,P12,P13,P14]\n",
    "tabela2 = [0,1,2,3,4,5,6,7,8,9,10,11,12,13,14]"
   ]
  },
  {
   "cell_type": "markdown",
   "metadata": {},
   "source": [
    "------------------------\n",
    "C\n",
    "---------------"
   ]
  },
  {
   "cell_type": "code",
   "execution_count": 83,
   "metadata": {
    "collapsed": false
   },
   "outputs": [
    {
     "name": "stdout",
     "output_type": "stream",
     "text": [
      "Média:   1.400\n",
      "Variancia:   1.260\n"
     ]
    }
   ],
   "source": [
    "p2 = stats.binom.stats(14, 0.1, moments='mv')\n",
    "\n",
    "print(\"Média: \",\"%6.3f\" %p2[0])\n",
    "print(\"Variancia: \",\"%6.3f\" %p2[1])"
   ]
  },
  {
   "cell_type": "markdown",
   "metadata": {},
   "source": [
    "-------\n",
    "D\n",
    "------------"
   ]
  },
  {
   "cell_type": "code",
   "execution_count": 73,
   "metadata": {
    "collapsed": false
   },
   "outputs": [
    {
     "data": {
      "image/png": "[encoded data removed]",
      "text/plain": [
       "<matplotlib.figure.Figure at 0x1db1976e978>"
      ]
     },
     "metadata": {},
     "output_type": "display_data"
    }
   ],
   "source": [
    "plt.plot(tabela2,lista1,'bo')\n",
    "plt.plot(tabela1,p1, 'yo')\n",
    "plt.xlabel('Itens em não conformidade')\n",
    "plt.ylabel('Frequencia')\n",
    "plt.title('Probabilidade Real x Probabilidade Teorico')\n",
    "plt.show()"
   ]
  },
  {
   "cell_type": "markdown",
   "metadata": {},
   "source": [
    "-------\n",
    "E\n",
    "---------"
   ]
  },
  {
   "cell_type": "markdown",
   "metadata": {},
   "source": [
    "\n",
    "o modelo probabilistico se apresenta como bem utilizado para calcular projeções e assim analisar o que estaria por vir\n"
   ]
  },
  {
   "cell_type": "markdown",
   "metadata": {},
   "source": [
    "--------\n",
    "F\n",
    "------"
   ]
  },
  {
   "cell_type": "markdown",
   "metadata": {},
   "source": [
    "A linha seguida pelo modelo binomial não coincide de uma forma muito satisfátoria com o calculado na forma convencional. Portanto NÃO é satisfatório.\n"
   ]
  },
  {
   "cell_type": "code",
   "execution_count": 74,
   "metadata": {
    "collapsed": false
   },
   "outputs": [
    {
     "data": {
      "text/html": [
       "<div>\n",
       "<table border=\"1\" class=\"dataframe\">\n",
       "  <thead>\n",
       "    <tr style=\"text-align: right;\">\n",
       "      <th></th>\n",
       "      <th>Tipo</th>\n",
       "      <th>Quantidade</th>\n",
       "    </tr>\n",
       "  </thead>\n",
       "  <tbody>\n",
       "    <tr>\n",
       "      <th>1</th>\n",
       "      <td>1</td>\n",
       "      <td>0</td>\n",
       "    </tr>\n",
       "    <tr>\n",
       "      <th>2</th>\n",
       "      <td>1</td>\n",
       "      <td>2</td>\n",
       "    </tr>\n",
       "    <tr>\n",
       "      <th>3</th>\n",
       "      <td>1</td>\n",
       "      <td>2</td>\n",
       "    </tr>\n",
       "    <tr>\n",
       "      <th>4</th>\n",
       "      <td>1</td>\n",
       "      <td>3</td>\n",
       "    </tr>\n",
       "    <tr>\n",
       "      <th>5</th>\n",
       "      <td>1</td>\n",
       "      <td>1</td>\n",
       "    </tr>\n",
       "  </tbody>\n",
       "</table>\n",
       "</div>"
      ],
      "text/plain": [
       "   Tipo  Quantidade\n",
       "1     1           0\n",
       "2     1           2\n",
       "3     1           2\n",
       "4     1           3\n",
       "5     1           1"
      ]
     },
     "execution_count": 74,
     "metadata": {},
     "output_type": "execute_result"
    }
   ],
   "source": [
    "carrospop = carros[carros.Tipo == 1]\n",
    "carrospop.head()"
   ]
  },
  {
   "cell_type": "code",
   "execution_count": 75,
   "metadata": {
    "collapsed": false
   },
   "outputs": [
    {
     "name": "stdout",
     "output_type": "stream",
     "text": [
      "2    0.295000\n",
      "1    0.283889\n",
      "3    0.166667\n",
      "0    0.149444\n",
      "4    0.072778\n",
      "5    0.026111\n",
      "6    0.004444\n",
      "7    0.001111\n",
      "8    0.000556\n",
      "Name: Quantidade, dtype: float64\n"
     ]
    }
   ],
   "source": [
    "A = carrospop.Quantidade.value_counts(True) \n",
    "\n",
    "print(A)\n",
    "\n",
    "Ta = [2,1,3,0,4,5,6,7,8]"
   ]
  },
  {
   "cell_type": "code",
   "execution_count": 76,
   "metadata": {
    "collapsed": false
   },
   "outputs": [
    {
     "name": "stdout",
     "output_type": "stream",
     "text": [
      "0 falhas:  0.1423211803 \n",
      "1 falha:  0.2977293656 \n",
      "2 falhas:  0.2891739241 \n",
      "3 falhas:  0.1728395868 \n",
      "4 falhas:  0.0710231635 \n",
      "5 falhas:  0.0212253132 \n",
      "6 falhas:  0.0047573978 \n",
      "7 falhas:  0.0008124292 \n",
      "8 falhas:  0.0001062228 \n",
      "9 falhas:  0.0000105816 \n",
      "10 falhas:  0.0000007906 \n",
      "11 falhas:  0.0000000430 \n",
      "12 falhas:  0.0000000016 \n",
      "13 falhas:  0.0000000000 \n",
      "14 falhas:  0.0000000000 \n"
     ]
    }
   ],
   "source": [
    "Pa0 = stats.binom.pmf(0, 14, 0.13)\n",
    "Pa1 = stats.binom.pmf(1, 14, 0.13)\n",
    "Pa2 = stats.binom.pmf(2, 14, 0.13)\n",
    "Pa3 = stats.binom.pmf(3, 14, 0.13)\n",
    "Pa4 = stats.binom.pmf(4, 14, 0.13)\n",
    "Pa5 = stats.binom.pmf(5, 14, 0.13)\n",
    "Pa6 = stats.binom.pmf(6, 14, 0.13)\n",
    "Pa7 = stats.binom.pmf(7, 14, 0.13)\n",
    "Pa8 = stats.binom.pmf(8, 14, 0.13)\n",
    "Pa9 = stats.binom.pmf(9, 14, 0.13)\n",
    "Pa10 = stats.binom.pmf(10, 14, 0.13)\n",
    "Pa11 = stats.binom.pmf(11, 14, 0.13)\n",
    "Pa12 = stats.binom.pmf(12, 14, 0.13)\n",
    "Pa13 = stats.binom.pmf(13, 14, 0.13)\n",
    "Pa14 = stats.binom.pmf(14, 14, 0.13)\n",
    "print(\"0 falhas: \", \"%6.10f \"%Pa0)\n",
    "print(\"1 falha: \", \"%6.10f \"%Pa1)\n",
    "print(\"2 falhas: \", \"%6.10f \"%Pa2)\n",
    "print(\"3 falhas: \", \"%6.10f \"%Pa3)\n",
    "print(\"4 falhas: \", \"%6.10f \"%Pa4)\n",
    "print(\"5 falhas: \", \"%6.10f \"%Pa5)\n",
    "print(\"6 falhas: \", \"%6.10f \"%Pa6)\n",
    "print(\"7 falhas: \", \"%6.10f \"%Pa7)\n",
    "print(\"8 falhas: \", \"%6.10f \"%Pa8)\n",
    "print(\"9 falhas: \", \"%6.10f \"%Pa9)\n",
    "print(\"10 falhas: \", \"%6.10f \"%Pa10)\n",
    "print(\"11 falhas: \", \"%6.10f \"%Pa11)\n",
    "print(\"12 falhas: \", \"%6.10f \"%Pa12)\n",
    "print(\"13 falhas: \", \"%6.10f \"%Pa13)\n",
    "print(\"14 falhas: \", \"%6.10f \"%Pa14)\n",
    "\n",
    "ListaA = [Pa0,Pa1,Pa2,Pa3,Pa4,Pa5,Pa6,Pa7,Pa8,Pa9,Pa10,Pa11,Pa12,Pa13,Pa14]\n",
    "Ta1 = [0,1,2,3,4,5,6,7,8,9,10,11,12,13,14]"
   ]
  },
  {
   "cell_type": "code",
   "execution_count": 79,
   "metadata": {
    "collapsed": false
   },
   "outputs": [
    {
     "data": {
      "image/png": "[encoded data removed]",
      "text/plain": [
       "<matplotlib.figure.Figure at 0x1db1800def0>"
      ]
     },
     "metadata": {},
     "output_type": "display_data"
    }
   ],
   "source": [
    "plt.plot(Ta1,ListaA,'bo')\n",
    "plt.plot(Ta,A, 'yo')\n",
    "plt.xlabel('Itens em não conformidade')\n",
    "plt.ylabel('Frequencia')\n",
    "plt.title('Probabilidade Real x Probabilidade Teorico')\n",
    "plt.show()"
   ]
  }
 ],
 "metadata": {
  "anaconda-cloud": {},
  "kernelspec": {
   "display_name": "Python 3",
   "language": "python",
   "name": "python3"
  },
  "language_info": {
   "codemirror_mode": {
    "name": "ipython",
    "version": 3
   },
   "file_extension": ".py",
   "mimetype": "text/x-python",
   "name": "python",
   "nbconvert_exporter": "python",
   "pygments_lexer": "ipython3",
   "version": "3.5.1"
  }
 },
 "nbformat": 4,
 "nbformat_minor": 0
}
