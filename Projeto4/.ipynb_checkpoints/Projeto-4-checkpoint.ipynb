{
 "cells": [
  {
   "cell_type": "markdown",
   "metadata": {},
   "source": [
    "# Projeto 4\n",
    "\n",
    "## Grupo:\n",
    "\n",
    "### Matheus Pamplona\n",
    "### Warlen Rodrigues\n",
    "\n"
   ]
  },
  {
   "cell_type": "code",
   "execution_count": 2,
   "metadata": {
    "collapsed": false
   },
   "outputs": [
    {
     "name": "stdout",
     "output_type": "stream",
     "text": [
      "Esperamos trabalhar no diretório\n",
      "C:\\Users\\Matheus\\Documents\\GitHub\\Dados\\Projeto4\n"
     ]
    }
   ],
   "source": [
    "%matplotlib inline\n",
    "import pandas as pd\n",
    "import matplotlib.pyplot as plt\n",
    "import numpy as np\n",
    "import os\n",
    "from scipy import stats\n",
    "import math\n",
    "import matplotlib.mlab as mlab\n",
    "\n",
    "print('Esperamos trabalhar no diretório')\n",
    "print(os.getcwd())"
   ]
  },
  {
   "cell_type": "markdown",
   "metadata": {},
   "source": [
    "#### Definição e Introdução do Problema\n",
    "\n",
    "Estudaremos o consumo de energia per capita na Austrália e no Canadá em dois cenários diferente: antes e depois do Boom Tecnológico. Como será que as pessoas se comportaram nesse Boom Tecnológico nesses países que têm climas tão distintos.\n",
    "\n",
    "\n",
    "Possível pergunta...\n",
    "\n",
    "Será que os países frios gastam mais com aquecimento que os quentes com resfriamento?"
   ]
  },
  {
   "cell_type": "markdown",
   "metadata": {
    "collapsed": true
   },
   "source": [
    "#### Como será construída a base de dados\n",
    "\n",
    "Não haverá uma construção, mas sim a escolha de uma base de dados já existente, que por sua vez está presente no banco de dados Gapminder. Para realizar o estudo fora escolhido duas bases de dados que auxiliariam na análise: Gasto de energia por país; Gasto de energia per capta por país.\n",
    "\n"
   ]
  },
  {
   "cell_type": "code",
   "execution_count": 3,
   "metadata": {
    "collapsed": false
   },
   "outputs": [],
   "source": [
    "ett=pd.read_excel('ett.xlsx',sep=',')\n",
    "epph1=pd.read_excel('epp.xlsx',sep=',',sheetname='CA')\n",
    "epph0=pd.read_excel('epp.xlsx',sep=',',sheetname='CA2')"
   ]
  },
  {
   "cell_type": "code",
   "execution_count": 4,
   "metadata": {
    "collapsed": true
   },
   "outputs": [],
   "source": [
    "#ausett = pd.DataFrame()\n",
    "#canett= pd.DataFrame()\n",
    "\n",
    "acepp =  pd.DataFrame()\n",
    "#canepp =  pd.DataFrame()"
   ]
  },
  {
   "cell_type": "code",
   "execution_count": 5,
   "metadata": {
    "collapsed": false
   },
   "outputs": [
    {
     "name": "stdout",
     "output_type": "stream",
     "text": [
      "40\n"
     ]
    }
   ],
   "source": [
    "print(len(epph1.Australia))"
   ]
  },
  {
   "cell_type": "code",
   "execution_count": 29,
   "metadata": {
    "collapsed": false
   },
   "outputs": [],
   "source": [
    "#n = len(epph1.Australia)\n",
    "#plt.plot(range(0,n,1),epph1.Australia)\n",
    "#plt.plot(range(0,n,1),epph1.Canada,'red')\n"
   ]
  },
  {
   "cell_type": "code",
   "execution_count": 35,
   "metadata": {
    "collapsed": true
   },
   "outputs": [],
   "source": [
    "listaaust = []\n",
    "listacan = []\n",
    "listaaustboom = []\n",
    "listacanboom = []\n"
   ]
  },
  {
   "cell_type": "code",
   "execution_count": 36,
   "metadata": {
    "collapsed": false
   },
   "outputs": [],
   "source": [
    "for i in range (len(epph1.Australia) -1):\n",
    "    crescimento = (epph1.Australia[i + 1] - epph1.Australia[i])/epph1.Australia[i]\n",
    "    listaaust.append(crescimento)\n",
    "    \n",
    "for i in range (len(epph1.Canada) -1):\n",
    "    crescimento2 = (epph1.Canada[i + 1] - epph1.Canada[i])/epph1.Canada[i]\n",
    "    listacan.append(crescimento2)\n",
    "    \n",
    "for i in range (len(epph0.Australia2) -1):\n",
    "    crescimento3 = (epph0.Australia2[i + 1] - epph0.Australia2[i])/epph0.Australia2[i]\n",
    "    listaaustboom.append(crescimento3)\n",
    "    \n",
    "for i in range (len(epph0.Canada2) -1):\n",
    "    crescimento4 = (epph0.Canada2[i + 1] - epph0.Canada2[i])/epph0.Canada2[i]\n",
    "    listacanboom.append(crescimento4)"
   ]
  },
  {
   "cell_type": "code",
   "execution_count": 39,
   "metadata": {
    "collapsed": false
   },
   "outputs": [
    {
     "data": {
      "image/png": "[encoded data removed]",
      "text/plain": [
       "<matplotlib.figure.Figure at 0x22ba66975f8>"
      ]
     },
     "metadata": {},
     "output_type": "display_data"
    },
    {
     "data": {
      "image/png": "[encoded data removed]",
      "text/plain": [
       "<matplotlib.figure.Figure at 0x22ba65bf5f8>"
      ]
     },
     "metadata": {},
     "output_type": "display_data"
    },
    {
     "data": {
      "image/png": "[encoded data removed]",
      "text/plain": [
       "<matplotlib.figure.Figure at 0x22ba668a4a8>"
      ]
     },
     "metadata": {},
     "output_type": "display_data"
    },
    {
     "data": {
      "image/png": "[encoded data removed]",
      "text/plain": [
       "<matplotlib.figure.Figure at 0x22ba698df98>"
      ]
     },
     "metadata": {},
     "output_type": "display_data"
    }
   ],
   "source": [
    "plt.hist(sorted(listaaust), bins = 20,alpha=0.5, color='orange', normed =1)\n",
    "plt.show()\n",
    "plt.hist(sorted(listacan), bins = 20,alpha=0.5, color='blue', normed =1)\n",
    "plt.show()\n",
    "plt.hist(sorted(listaaustboom), bins = 7,alpha=0.5, color='red', normed =1)\n",
    "plt.show()\n",
    "plt.hist(sorted(listacanboom), bins = 7,alpha=0.5, color='yellow', normed =1)\n",
    "plt.show()"
   ]
  },
  {
   "cell_type": "code",
   "execution_count": 42,
   "metadata": {
    "collapsed": true
   },
   "outputs": [],
   "source": [
    "listatot1 = []\n",
    "listatot2 = []"
   ]
  },
  {
   "cell_type": "code",
   "execution_count": 43,
   "metadata": {
    "collapsed": true
   },
   "outputs": [],
   "source": [
    "listatot1 = listaaust + listacan \n",
    "listatot2 = listaaustboom + listacanboom"
   ]
  },
  {
   "cell_type": "code",
   "execution_count": 47,
   "metadata": {
    "collapsed": true
   },
   "outputs": [],
   "source": [
    "from random import shuffle"
   ]
  },
  {
   "cell_type": "code",
   "execution_count": 50,
   "metadata": {
    "collapsed": false
   },
   "outputs": [
    {
     "name": "stdout",
     "output_type": "stream",
     "text": [
      "[0.012340370937705573, 0.017124672117399476, 0.0062288165383761057, 0.027369991572423865, 0.011714724668930575, -0.00075480150291035056, -0.018157557474908961, -0.003205131178234121, 0.071310640287099936, -0.054216211138773798, 0.010948747733993248, 0.022080811835613334, 0.061753504548680824, -0.015057817851645021, 0.051049110202052203, 0.027984440559131324, 0.019158988405965912, 0.019751100256568569, 0.044627647783852413, -0.036975028726876434, 0.035006925240088971, 0.060261140765583858, 0.0240592593500292, 0.019903225819306931, 0.013767443540356876, 0.013273319122818417, -0.050605399167598021, 0.017452245795157143, -0.00020969149578556483, 0.01989973697749613, 0.0020388985821790558, 0.056543486643909194, 0.026160077482828024, 0.01547908529148222, 0.0011165748581947925, 0.040984729168959698, 0.041029298016657063, -0.0064706536941224174, -0.0089007624567478509, -0.0090355183380583775, 0.037397403642303269, -0.053152886078120888, 0.056766584350921113, 0.047645642581742163, 0.0083297942104779629, 0.041243029426493986, 0.055057702313103488, 0.018835203249095146, 0.017049743090400811, 0.039651537620670592, 0.011423766907227273, 0.011449730120848671, 0.021596826783369563, 0.025207964262472331, 0.0071233105400425809, 0.0034992144200156673, 0.0069795747843932748, 0.023037223500581523, 0.033976512128573083, 0.031272541282680005, 0.018354200600612137, 0.012041889449792259, 0.0078054716708383107, -0.01604999226461145, 0.0012166323026352054, 0.012293618484300012, 0.0070094980301172258, -0.015325146702204367, 0.013316388213759297, 0.053981630045613738, 0.012079864693969572, 0.033367071204361616, 0.010002976470057727, 0.010104260257698741, 0.054488751637833358, -0.0095835415042543875, 0.063254341456196725, -0.024923825264302684]\n"
     ]
    }
   ],
   "source": [
    "shuffle(listatot1)\n",
    "print(listatot1)"
   ]
  },
  {
   "cell_type": "code",
   "execution_count": 53,
   "metadata": {
    "collapsed": true
   },
   "outputs": [],
   "source": [
    "def mean(numbers):\n",
    "    return float(sum(numbers)) / max(len(numbers), 1)"
   ]
  },
  {
   "cell_type": "code",
   "execution_count": 54,
   "metadata": {
    "collapsed": false
   },
   "outputs": [],
   "source": [
    "P = 100000\n",
    "perm = []\n",
    "\n",
    "for i in range(0,P):\n",
    "    shuffle(listatot1)\n",
    "    perm.append(mean(listatot1[0:39]) - mean(listatot1[40:]))"
   ]
  },
  {
   "cell_type": "code",
   "execution_count": 63,
   "metadata": {
    "collapsed": false
   },
   "outputs": [
    {
     "data": {
      "image/png": "[encoded data removed]",
      "text/plain": [
       "<matplotlib.figure.Figure at 0x22ba7aeae48>"
      ]
     },
     "metadata": {},
     "output_type": "display_data"
    }
   ],
   "source": [
    "plt.hist(sorted(perm), bins = 25,alpha=0.5, color='m', histtype='stepfilled',normed =1)\n",
    "\n",
    "plt.show()"
   ]
  },
  {
   "cell_type": "code",
   "execution_count": 68,
   "metadata": {
    "collapsed": false
   },
   "outputs": [
    {
     "ename": "SyntaxError",
     "evalue": "EOF while scanning triple-quoted string literal (<ipython-input-68-8ee082222542>, line 11)",
     "output_type": "error",
     "traceback": [
      "\u001b[1;36m  File \u001b[1;32m\"<ipython-input-68-8ee082222542>\"\u001b[1;36m, line \u001b[1;32m11\u001b[0m\n\u001b[1;33m    plt.hist(sorted(epph0.Canada2), bins = 19,alpha=0.5, color='red', normed =1)'\u001b[0m\n\u001b[1;37m                                                                                 \n^\u001b[0m\n\u001b[1;31mSyntaxError\u001b[0m\u001b[1;31m:\u001b[0m EOF while scanning triple-quoted string literal\n"
     ]
    }
   ],
   "source": [
    "'''\n",
    "a11850 = sorted(anos.A1850)\n",
    "mi1850 = anos.A1850.mean()\n",
    "sigma1850 = (anos.A1850.var())**0.5\n",
    "\n",
    "plt.hist(sorted(epph1.Australia), bins = 19,alpha=0.5, color='orange', normed =1)\n",
    "a1.plot(x, stats.norm.pdf(x, loc = mi2000, scale = sigma2000), lw = 3, alpha = 0.6, color = 'Black')\n",
    "plt.hist(sorted(epph0.Australia2), bins = 19,alpha=0.5, color='blue', normed =1)\n",
    "plt.show()\n",
    "plt.hist(sorted(epph1.Canada), bins = 19,alpha=0.5, color='green', normed =1)\n",
    "plt.hist(sorted(epph0.Canada2), bins = 19,alpha=0.5, color='red', normed =1)'''"
   ]
  },
  {
   "cell_type": "code",
   "execution_count": null,
   "metadata": {
    "collapsed": false
   },
   "outputs": [],
   "source": []
  }
 ],
 "metadata": {
  "kernelspec": {
   "display_name": "Python 3",
   "language": "python",
   "name": "python3"
  },
  "language_info": {
   "codemirror_mode": {
    "name": "ipython",
    "version": 3
   },
   "file_extension": ".py",
   "mimetype": "text/x-python",
   "name": "python",
   "nbconvert_exporter": "python",
   "pygments_lexer": "ipython3",
   "version": "3.5.1"
  }
 },
 "nbformat": 4,
 "nbformat_minor": 0
}
