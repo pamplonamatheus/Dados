{
 "cells": [
  {
   "cell_type": "markdown",
   "metadata": {},
   "source": [
    "___\n",
    "# PROJETO 1"
   ]
  },
  {
   "cell_type": "markdown",
   "metadata": {},
   "source": [
    "## Matheus de Souza Pamplona Silva\n",
    "____"
   ]
  },
  {
   "cell_type": "markdown",
   "metadata": {},
   "source": [
    "-----------------\n",
    "## <font color='red'>1. O desligamento do sinal analógico de TV Análise de crescimento nacional: internet e Tv digital. </font>"
   ]
  },
  {
   "cell_type": "markdown",
   "metadata": {},
   "source": [
    "___\n",
    "## Introdução \n",
    "\n",
    "\n",
    "A internet e a televisão foram duas revoluções gigantes na humanidade, sendo a primeira se iniciando na década de 90, enquanto a última já no início da segunda metade do século XX.\n",
    "É importante ressaltar, que sempre é visto um atraso na recepção das novidades para o nosso meio, o Brasil nem sempre é visto como primeiro mercado para a tecnologia de ponta, situação que parece estar mudando. Sendo assim, isso que será estudado por esse projeto, o acesso brasileiro as novas tecnologias.\n",
    "\n",
    "_________\n",
    "\n",
    "<font color='blue'>1. O desligamento do sinal analógico de TV </font>\n",
    "\n",
    "<img src=\"noticia1.png\">\n",
    "\n",
    "A partir do ano de 2007 com a inauguração do sinal digital no Brasil(fonte [1]: https://pt.wikipedia.org/wiki/Televis%C3%A3o_digital_no_Brasil), foi visto uma adesão de vários tipos a essa nova tecnologia, sendo por meio de adaptadores as antigas tvs, ou seja pela compra de novas Televisões com a tecnologia já embutida.\n",
    "No ano de 2014, com o leilão da faixa de radiofrequência analógica, com o intuito de inclusão da internet 4G no país(fonte[1]), fez com que esse tipo de Tv seja colocada em um processo de obsolecência. \n",
    "Um ponto forte que iremos chegar é a medida retratada na notícia, de que estão sendo distribuídos as classes subalternas os kits conversores."
   ]
  },
  {
   "cell_type": "code",
   "execution_count": 2,
   "metadata": {
    "collapsed": true
   },
   "outputs": [],
   "source": [
    "%matplotlib inline\n",
    "import pandas as pd\n",
    "import matplotlib.pyplot as plt\n",
    "import numpy as np\n",
    "import os\n",
    "from numpy import arange"
   ]
  },
  {
   "cell_type": "code",
   "execution_count": 3,
   "metadata": {
    "collapsed": false
   },
   "outputs": [
    {
     "name": "stdout",
     "output_type": "stream",
     "text": [
      "Esperamos trabalhar no diretório\n",
      "C:\\Users\\Matheus\\Documents\\GitHub\\Dados\\projeto1\n"
     ]
    }
   ],
   "source": [
    "print('Esperamos trabalhar no diretório')\n",
    "print(os.getcwd())"
   ]
  },
  {
   "cell_type": "code",
   "execution_count": 4,
   "metadata": {
    "collapsed": true
   },
   "outputs": [],
   "source": [
    "dados2015=pd.read_csv('DOM2015.csv',sep=',')\n",
    "dados2013=pd.read_csv('DOM2013.csv',sep=',')"
   ]
  },
  {
   "cell_type": "markdown",
   "metadata": {},
   "source": [
    "___\n",
    "## Análise e Resultados"
   ]
  },
  {
   "cell_type": "markdown",
   "metadata": {},
   "source": [
    "<font color='blue'>2. Seleção de população utilizada: </font>"
   ]
  },
  {
   "cell_type": "markdown",
   "metadata": {},
   "source": [
    "Sendo pioneiro nesta tecnologia, achei interessante, visto o desligamento eminente do sinal analógico, selecionar apenas o estado de São Paulo\n",
    "________"
   ]
  },
  {
   "cell_type": "code",
   "execution_count": 5,
   "metadata": {
    "collapsed": true
   },
   "outputs": [],
   "source": [
    "dadossp13 = pd.DataFrame()\n",
    "dadossp15 = pd.DataFrame()"
   ]
  },
  {
   "cell_type": "code",
   "execution_count": 6,
   "metadata": {
    "collapsed": true
   },
   "outputs": [],
   "source": [
    "dados2013[\"estado\"] = dados2013.UF\n",
    "dados2015[\"estado\"] = dados2015.UF"
   ]
  },
  {
   "cell_type": "code",
   "execution_count": 7,
   "metadata": {
    "collapsed": false
   },
   "outputs": [],
   "source": [
    "dadossp13 = dados2013[dados2013.UF == 35]\n",
    "dadossp15 = dados2015[dados2015.UF == 35]"
   ]
  },
  {
   "cell_type": "code",
   "execution_count": null,
   "metadata": {
    "collapsed": false
   },
   "outputs": [],
   "source": [
    "    \n"
   ]
  },
  {
   "cell_type": "markdown",
   "metadata": {},
   "source": [
    "<font color='blue'>2.1 Crescimento do uso de internet móvel: </font>"
   ]
  },
  {
   "cell_type": "markdown",
   "metadata": {},
   "source": [
    "Como dito anteriormente a justificativa para o desligamento do sinal analógico de tv, foi o uso dessa frequência para a internet móvel em 4G, dessa forma neste tópico será analisado este crescimento.\n",
    "______"
   ]
  },
  {
   "cell_type": "code",
   "execution_count": 13,
   "metadata": {
    "collapsed": false
   },
   "outputs": [
    {
     "name": "stderr",
     "output_type": "stream",
     "text": [
      "C:\\Users\\Matheus\\Anaconda3\\lib\\site-packages\\ipykernel\\__main__.py:1: SettingWithCopyWarning: \n",
      "A value is trying to be set on a copy of a slice from a DataFrame.\n",
      "Try using .loc[row_indexer,col_indexer] = value instead\n",
      "\n",
      "See the caveats in the documentation: http://pandas.pydata.org/pandas-docs/stable/indexing.html#indexing-view-versus-copy\n",
      "  if __name__ == '__main__':\n",
      "C:\\Users\\Matheus\\Anaconda3\\lib\\site-packages\\ipykernel\\__main__.py:2: SettingWithCopyWarning: \n",
      "A value is trying to be set on a copy of a slice from a DataFrame.\n",
      "Try using .loc[row_indexer,col_indexer] = value instead\n",
      "\n",
      "See the caveats in the documentation: http://pandas.pydata.org/pandas-docs/stable/indexing.html#indexing-view-versus-copy\n",
      "  from ipykernel import kernelapp as app\n",
      "C:\\Users\\Matheus\\Anaconda3\\lib\\site-packages\\ipykernel\\__main__.py:4: SettingWithCopyWarning: \n",
      "A value is trying to be set on a copy of a slice from a DataFrame.\n",
      "Try using .loc[row_indexer,col_indexer] = value instead\n",
      "\n",
      "See the caveats in the documentation: http://pandas.pydata.org/pandas-docs/stable/indexing.html#indexing-view-versus-copy\n",
      "C:\\Users\\Matheus\\Anaconda3\\lib\\site-packages\\ipykernel\\__main__.py:5: SettingWithCopyWarning: \n",
      "A value is trying to be set on a copy of a slice from a DataFrame.\n",
      "Try using .loc[row_indexer,col_indexer] = value instead\n",
      "\n",
      "See the caveats in the documentation: http://pandas.pydata.org/pandas-docs/stable/indexing.html#indexing-view-versus-copy\n",
      "C:\\Users\\Matheus\\Anaconda3\\lib\\site-packages\\ipykernel\\__main__.py:7: SettingWithCopyWarning: \n",
      "A value is trying to be set on a copy of a slice from a DataFrame.\n",
      "Try using .loc[row_indexer,col_indexer] = value instead\n",
      "\n",
      "See the caveats in the documentation: http://pandas.pydata.org/pandas-docs/stable/indexing.html#indexing-view-versus-copy\n",
      "C:\\Users\\Matheus\\Anaconda3\\lib\\site-packages\\ipykernel\\__main__.py:8: SettingWithCopyWarning: \n",
      "A value is trying to be set on a copy of a slice from a DataFrame.\n",
      "Try using .loc[row_indexer,col_indexer] = value instead\n",
      "\n",
      "See the caveats in the documentation: http://pandas.pydata.org/pandas-docs/stable/indexing.html#indexing-view-versus-copy\n",
      "C:\\Users\\Matheus\\Anaconda3\\lib\\site-packages\\ipykernel\\__main__.py:10: SettingWithCopyWarning: \n",
      "A value is trying to be set on a copy of a slice from a DataFrame.\n",
      "Try using .loc[row_indexer,col_indexer] = value instead\n",
      "\n",
      "See the caveats in the documentation: http://pandas.pydata.org/pandas-docs/stable/indexing.html#indexing-view-versus-copy\n",
      "C:\\Users\\Matheus\\Anaconda3\\lib\\site-packages\\ipykernel\\__main__.py:11: SettingWithCopyWarning: \n",
      "A value is trying to be set on a copy of a slice from a DataFrame.\n",
      "Try using .loc[row_indexer,col_indexer] = value instead\n",
      "\n",
      "See the caveats in the documentation: http://pandas.pydata.org/pandas-docs/stable/indexing.html#indexing-view-versus-copy\n"
     ]
    }
   ],
   "source": [
    "dadossp15['tresg'] = dadossp15.V02424.astype('category')\n",
    "dadossp13['tresg'] = dadossp13.V02424.astype('category')\n",
    "\n",
    "dadossp15['celular'] = dadossp15.V0220.astype('category')\n",
    "dadossp13['celular'] = dadossp13.V0220.astype('category')\n",
    "\n",
    "dadossp15['usapc'] = dadossp15.V02323.astype('category')\n",
    "dadossp13['usapc'] = dadossp13.V02323.astype('category')\n",
    "\n",
    "dadossp15['usacel'] = dadossp15.V02324.astype('category')\n",
    "dadossp13['usacel'] = dadossp13.V02324.astype('category')"
   ]
  },
  {
   "cell_type": "code",
   "execution_count": 14,
   "metadata": {
    "collapsed": false
   },
   "outputs": [],
   "source": [
    "dadossp15.tresg.cat.categories = ('Sim','Não')\n",
    "dadossp13.tresg.cat.categories = ('Sim','Não')\n",
    "\n",
    "dadossp15.celular.cat.categories = ('Sim','Não')\n",
    "dadossp13.celular.cat.categories = ('Sim','Não')\n",
    "\n",
    "dadossp15.usapc.cat.categories = ('Sim','Não')\n",
    "dadossp13.usapc.cat.categories = ('Sim','Não')\n",
    "\n",
    "dadossp15.usacel.cat.categories = ('Sim','Não')\n",
    "dadossp13.usacel.cat.categories = ('Sim','Não')\n",
    "\n",
    "d1 =  dadossp13.dropna(subset = ['tresg', 'celular', 'usapc', 'usacel'])\n",
    "d2 =  dadossp15.dropna(subset = ['tresg', 'celular', 'usapc', 'usacel'])"
   ]
  },
  {
   "cell_type": "code",
   "execution_count": 15,
   "metadata": {
    "collapsed": false
   },
   "outputs": [
    {
     "data": {
      "text/html": [
       "<div>\n",
       "<table border=\"1\" class=\"dataframe\">\n",
       "  <thead>\n",
       "    <tr style=\"text-align: right;\">\n",
       "      <th></th>\n",
       "      <th>Unnamed: 0</th>\n",
       "      <th>V0101</th>\n",
       "      <th>UF</th>\n",
       "      <th>V0102</th>\n",
       "      <th>V0103</th>\n",
       "      <th>V0104</th>\n",
       "      <th>V0105</th>\n",
       "      <th>V0106</th>\n",
       "      <th>V0201</th>\n",
       "      <th>V0202</th>\n",
       "      <th>...</th>\n",
       "      <th>V4620</th>\n",
       "      <th>V4621</th>\n",
       "      <th>V4622</th>\n",
       "      <th>V4624</th>\n",
       "      <th>V9992</th>\n",
       "      <th>estado</th>\n",
       "      <th>tresg</th>\n",
       "      <th>celular</th>\n",
       "      <th>usapc</th>\n",
       "      <th>usacel</th>\n",
       "    </tr>\n",
       "  </thead>\n",
       "  <tbody>\n",
       "    <tr>\n",
       "      <th>93131</th>\n",
       "      <td>93131</td>\n",
       "      <td>2015</td>\n",
       "      <td>35</td>\n",
       "      <td>15</td>\n",
       "      <td>1</td>\n",
       "      <td>5</td>\n",
       "      <td>NaN</td>\n",
       "      <td>NaN</td>\n",
       "      <td>NaN</td>\n",
       "      <td>NaN</td>\n",
       "      <td>...</td>\n",
       "      <td>NaN</td>\n",
       "      <td>NaN</td>\n",
       "      <td>NaN</td>\n",
       "      <td>NaN</td>\n",
       "      <td>20161104</td>\n",
       "      <td>35</td>\n",
       "      <td>NaN</td>\n",
       "      <td>NaN</td>\n",
       "      <td>NaN</td>\n",
       "      <td>NaN</td>\n",
       "    </tr>\n",
       "    <tr>\n",
       "      <th>93132</th>\n",
       "      <td>93132</td>\n",
       "      <td>2015</td>\n",
       "      <td>35</td>\n",
       "      <td>15</td>\n",
       "      <td>2</td>\n",
       "      <td>1</td>\n",
       "      <td>2.0</td>\n",
       "      <td>2.0</td>\n",
       "      <td>1.0</td>\n",
       "      <td>4.0</td>\n",
       "      <td>...</td>\n",
       "      <td>2.0</td>\n",
       "      <td>4250.0</td>\n",
       "      <td>7.0</td>\n",
       "      <td>1.0</td>\n",
       "      <td>20161104</td>\n",
       "      <td>35</td>\n",
       "      <td>Sim</td>\n",
       "      <td>Sim</td>\n",
       "      <td>Sim</td>\n",
       "      <td>Sim</td>\n",
       "    </tr>\n",
       "    <tr>\n",
       "      <th>93133</th>\n",
       "      <td>93133</td>\n",
       "      <td>2015</td>\n",
       "      <td>35</td>\n",
       "      <td>15</td>\n",
       "      <td>3</td>\n",
       "      <td>1</td>\n",
       "      <td>3.0</td>\n",
       "      <td>3.0</td>\n",
       "      <td>1.0</td>\n",
       "      <td>2.0</td>\n",
       "      <td>...</td>\n",
       "      <td>3.0</td>\n",
       "      <td>1262.0</td>\n",
       "      <td>4.0</td>\n",
       "      <td>1.0</td>\n",
       "      <td>20161104</td>\n",
       "      <td>35</td>\n",
       "      <td>Sim</td>\n",
       "      <td>Sim</td>\n",
       "      <td>Sim</td>\n",
       "      <td>Sim</td>\n",
       "    </tr>\n",
       "    <tr>\n",
       "      <th>93134</th>\n",
       "      <td>93134</td>\n",
       "      <td>2015</td>\n",
       "      <td>35</td>\n",
       "      <td>15</td>\n",
       "      <td>4</td>\n",
       "      <td>6</td>\n",
       "      <td>NaN</td>\n",
       "      <td>NaN</td>\n",
       "      <td>NaN</td>\n",
       "      <td>NaN</td>\n",
       "      <td>...</td>\n",
       "      <td>NaN</td>\n",
       "      <td>NaN</td>\n",
       "      <td>NaN</td>\n",
       "      <td>NaN</td>\n",
       "      <td>20161104</td>\n",
       "      <td>35</td>\n",
       "      <td>NaN</td>\n",
       "      <td>NaN</td>\n",
       "      <td>NaN</td>\n",
       "      <td>NaN</td>\n",
       "    </tr>\n",
       "    <tr>\n",
       "      <th>93135</th>\n",
       "      <td>93135</td>\n",
       "      <td>2015</td>\n",
       "      <td>35</td>\n",
       "      <td>15</td>\n",
       "      <td>5</td>\n",
       "      <td>1</td>\n",
       "      <td>1.0</td>\n",
       "      <td>1.0</td>\n",
       "      <td>1.0</td>\n",
       "      <td>4.0</td>\n",
       "      <td>...</td>\n",
       "      <td>1.0</td>\n",
       "      <td>3000.0</td>\n",
       "      <td>6.0</td>\n",
       "      <td>1.0</td>\n",
       "      <td>20161104</td>\n",
       "      <td>35</td>\n",
       "      <td>Sim</td>\n",
       "      <td>Sim</td>\n",
       "      <td>Sim</td>\n",
       "      <td>Sim</td>\n",
       "    </tr>\n",
       "  </tbody>\n",
       "</table>\n",
       "<p>5 rows × 86 columns</p>\n",
       "</div>"
      ],
      "text/plain": [
       "       Unnamed: 0  V0101  UF  V0102  V0103  V0104  V0105  V0106  V0201  V0202  \\\n",
       "93131       93131   2015  35     15      1      5    NaN    NaN    NaN    NaN   \n",
       "93132       93132   2015  35     15      2      1    2.0    2.0    1.0    4.0   \n",
       "93133       93133   2015  35     15      3      1    3.0    3.0    1.0    2.0   \n",
       "93134       93134   2015  35     15      4      6    NaN    NaN    NaN    NaN   \n",
       "93135       93135   2015  35     15      5      1    1.0    1.0    1.0    4.0   \n",
       "\n",
       "        ...    V4620   V4621  V4622  V4624     V9992  estado  tresg  celular  \\\n",
       "93131   ...      NaN     NaN    NaN    NaN  20161104      35    NaN      NaN   \n",
       "93132   ...      2.0  4250.0    7.0    1.0  20161104      35    Sim      Sim   \n",
       "93133   ...      3.0  1262.0    4.0    1.0  20161104      35    Sim      Sim   \n",
       "93134   ...      NaN     NaN    NaN    NaN  20161104      35    NaN      NaN   \n",
       "93135   ...      1.0  3000.0    6.0    1.0  20161104      35    Sim      Sim   \n",
       "\n",
       "       usapc  usacel  \n",
       "93131    NaN     NaN  \n",
       "93132    Sim     Sim  \n",
       "93133    Sim     Sim  \n",
       "93134    NaN     NaN  \n",
       "93135    Sim     Sim  \n",
       "\n",
       "[5 rows x 86 columns]"
      ]
     },
     "execution_count": 15,
     "metadata": {},
     "output_type": "execute_result"
    }
   ],
   "source": [
    "dadossp15.head()"
   ]
  },
  {
   "cell_type": "code",
   "execution_count": 16,
   "metadata": {
    "collapsed": false
   },
   "outputs": [
    {
     "data": {
      "image/png": "[encoded data removed]",
      "text/plain": [
       "<matplotlib.figure.Figure at 0x1ac2000e550>"
      ]
     },
     "metadata": {},
     "output_type": "display_data"
    },
    {
     "data": {
      "image/png": "[encoded data removed]",
      "text/plain": [
       "<matplotlib.figure.Figure at 0x1ac26d39e48>"
      ]
     },
     "metadata": {},
     "output_type": "display_data"
    },
    {
     "data": {
      "image/png": "[encoded data removed]",
      "text/plain": [
       "<matplotlib.figure.Figure at 0x1ac26d1bf28>"
      ]
     },
     "metadata": {},
     "output_type": "display_data"
    },
    {
     "data": {
      "text/plain": [
       "<matplotlib.text.Text at 0x1ac297dbb00>"
      ]
     },
     "execution_count": 16,
     "metadata": {},
     "output_type": "execute_result"
    },
    {
     "data": {
      "image/png": "[encoded data removed]",
      "text/plain": [
       "<matplotlib.figure.Figure at 0x1ac26db7898>"
      ]
     },
     "metadata": {},
     "output_type": "display_data"
    }
   ],
   "source": [
    "n = dadossp13.shape[0]\n",
    "n = dadossp15.shape[0]\n",
    "\n",
    "\n",
    "\n",
    "\n",
    "\n",
    "plt.show()\n",
    "\n",
    "plt.subplot(221)\n",
    "ut2 = ((d1.celular.value_counts()/n)*100).round(decimals=1)\n",
    "\n",
    "plot = ut2.plot(kind='pie',title='Possui celular? [GRAFICO 1]',figsize=(9, 9),autopct='%.1f',colormap = \"rainbow\")\n",
    "plt.ylabel('Frequência relativa da presença de celulares 2013(em%)')\n",
    "\n",
    "plt.subplot(222)\n",
    "ut3 = ((d2.celular.value_counts()/n)*100).round(decimals=1)\n",
    "\n",
    "plot = ut3.plot(kind='pie',title='',figsize=(9, 9),autopct='%.1f',colormap = \"rainbow\")\n",
    "plt.ylabel('Frequência relativa da presença de celulares 2015(em%)')\n",
    "plt.show()\n",
    "\n",
    "\n",
    "plt.subplot(221)\n",
    "ut4 = ((d1.usapc.value_counts()/n)*100).round(decimals=1)\n",
    "\n",
    "plot = ut4.plot(kind='pie',title='Acessa a internet por microcomputador [GRAFICO 2]',figsize=(9, 9),autopct='%.1f',colormap = \"rainbow\")\n",
    "plt.ylabel('Frequência relativa do acesso em 2013(em%)')\n",
    "\n",
    "plt.subplot(222)\n",
    "ut5 = ((d2.usapc.value_counts()/n)*100).round(decimals=1)\n",
    "\n",
    "plot = ut5.plot(kind='pie',title='',figsize=(9, 9),autopct='%.1f',colormap = \"rainbow\")\n",
    "plt.ylabel('Frequência relativa do acesso em 2015(em%)')\n",
    "plt.show()\n",
    "\n",
    "plt.subplot(221)\n",
    "ut6 = ((d1.usacel.value_counts()/n)*100).round(decimals=1)\n",
    "\n",
    "plot = ut6.plot(kind='pie',title='Acessa a internet por celular [GRAFICO 3]',figsize=(9, 9),autopct='%.1f',colormap = \"rainbow\")\n",
    "plt.ylabel('Frequência relativa do acesso em 2013(em%)')\n",
    "\n",
    "plt.subplot(222)\n",
    "ut7 = ((d2.usacel.value_counts()/n)*100).round(decimals=1)\n",
    "\n",
    "plot = ut7.plot(kind='pie',title='',figsize=(9, 9),autopct='%.1f',colormap = \"rainbow\")\n",
    "plt.ylabel('Frequência relativa do acesso em 2015(em%)')\n",
    "plt.show()\n",
    "\n",
    "plt.subplot(221)\n",
    "ut0 = ((d1.tresg.value_counts()/n)*100).round(decimals=1)\n",
    "\n",
    "plot = ut0.plot(kind='pie',title='Acesso a internet 3G e 4G no estado de SP [GRAFICO 4]',autopct='%.1f',figsize=(9,9),colormap = \"rainbow\")\n",
    "plt.ylabel('Freq.Relativa 2013(em%)')\n",
    "\n",
    "plt.subplot(222)\n",
    "ut1 = ((d2.tresg.value_counts()/n)*100).round(decimals=1)\n",
    "\n",
    "plot1 = ut1.plot(kind='pie',title='',figsize=(9, 9), autopct='%.1f',colormap = \"rainbow\")\n",
    "plt.ylabel('Freq.Relativa 2015(em%)')"
   ]
  },
  {
   "cell_type": "markdown",
   "metadata": {},
   "source": [
    "[Gráfico 1: possui celular] Várias notícias são veiculadas com os dizeres de que o número de celulares está próximo de ultrapassar a população de determinados locais.\n",
    "\n",
    "[Gráfico 2: Usa micro para acessar internet] Este é um gráfico interessantíssimo, evidenciando uma das motivações da mudança, visto que muitas famílias abandonaram o acesso de internet por microcomputadores\n",
    "\n",
    "[Gráfico 3: acesso a internet por celular] Mostrando a quase integralidade, quase todos usuários de celular utilizam internet nele, sendo por wifi ou conexão celular.\n",
    "\n",
    "[Gráfico 4: acesso a internet 3G e 4G] Com essa informação é possível concluir que o crescimento é muito rápido nesses anos que se passam, com um crescimento relativo de mais de 10% em apenas dois anos.\n",
    "______________________"
   ]
  },
  {
   "cell_type": "code",
   "execution_count": null,
   "metadata": {
    "collapsed": false
   },
   "outputs": [],
   "source": []
  },
  {
   "cell_type": "code",
   "execution_count": null,
   "metadata": {
    "collapsed": false
   },
   "outputs": [],
   "source": []
  },
  {
   "cell_type": "code",
   "execution_count": null,
   "metadata": {
    "collapsed": false
   },
   "outputs": [],
   "source": []
  },
  {
   "cell_type": "code",
   "execution_count": null,
   "metadata": {
    "collapsed": true
   },
   "outputs": [],
   "source": []
  },
  {
   "cell_type": "markdown",
   "metadata": {},
   "source": [
    "____\n",
    "<font color='blue'>2.1 Estudo do comportamento do acesso a televisão: </font>"
   ]
  },
  {
   "cell_type": "markdown",
   "metadata": {},
   "source": [
    "Uma das partes necessária nesse estudo é verificar como se alterou o uso de televisão nas suas diversas formas.\n",
    "___________"
   ]
  },
  {
   "cell_type": "code",
   "execution_count": 17,
   "metadata": {
    "collapsed": false
   },
   "outputs": [
    {
     "name": "stderr",
     "output_type": "stream",
     "text": [
      "C:\\Users\\Matheus\\Anaconda3\\lib\\site-packages\\ipykernel\\__main__.py:1: SettingWithCopyWarning: \n",
      "A value is trying to be set on a copy of a slice from a DataFrame.\n",
      "Try using .loc[row_indexer,col_indexer] = value instead\n",
      "\n",
      "See the caveats in the documentation: http://pandas.pydata.org/pandas-docs/stable/indexing.html#indexing-view-versus-copy\n",
      "  if __name__ == '__main__':\n",
      "C:\\Users\\Matheus\\Anaconda3\\lib\\site-packages\\ipykernel\\__main__.py:2: SettingWithCopyWarning: \n",
      "A value is trying to be set on a copy of a slice from a DataFrame.\n",
      "Try using .loc[row_indexer,col_indexer] = value instead\n",
      "\n",
      "See the caveats in the documentation: http://pandas.pydata.org/pandas-docs/stable/indexing.html#indexing-view-versus-copy\n",
      "  from ipykernel import kernelapp as app\n",
      "C:\\Users\\Matheus\\Anaconda3\\lib\\site-packages\\ipykernel\\__main__.py:7: SettingWithCopyWarning: \n",
      "A value is trying to be set on a copy of a slice from a DataFrame.\n",
      "Try using .loc[row_indexer,col_indexer] = value instead\n",
      "\n",
      "See the caveats in the documentation: http://pandas.pydata.org/pandas-docs/stable/indexing.html#indexing-view-versus-copy\n",
      "C:\\Users\\Matheus\\Anaconda3\\lib\\site-packages\\ipykernel\\__main__.py:8: SettingWithCopyWarning: \n",
      "A value is trying to be set on a copy of a slice from a DataFrame.\n",
      "Try using .loc[row_indexer,col_indexer] = value instead\n",
      "\n",
      "See the caveats in the documentation: http://pandas.pydata.org/pandas-docs/stable/indexing.html#indexing-view-versus-copy\n"
     ]
    }
   ],
   "source": [
    "dadossp15['tubo'] = dadossp15.V02271.astype('category')\n",
    "dadossp13['tubo'] = dadossp13.V02424.astype('category')\n",
    "\n",
    "\n",
    "#dadossp13 = dados2013[dados2013.UF == 35]\n",
    "\n",
    "dadossp15['digital'] = dadossp15.V02273.astype('category')\n",
    "dadossp13['digital'] = dadossp13.V02273.astype('category')\n",
    "\n",
    "#dadossp15['usapc'] = dadossp15.V02323.astype('category')\n",
    "#dadossp13['usapc'] = dadossp13.V02323.astype('category')\n",
    "\n",
    "#dadossp15['usacel'] = dadossp15.V02324.astype('category')\n",
    "#dadossp13['usacel'] = dadossp13.V02324.astype('category')"
   ]
  },
  {
   "cell_type": "code",
   "execution_count": null,
   "metadata": {
    "collapsed": false
   },
   "outputs": [],
   "source": []
  },
  {
   "cell_type": "code",
   "execution_count": 18,
   "metadata": {
    "collapsed": false
   },
   "outputs": [
    {
     "data": {
      "text/html": [
       "<div>\n",
       "<table border=\"1\" class=\"dataframe\">\n",
       "  <thead>\n",
       "    <tr style=\"text-align: right;\">\n",
       "      <th></th>\n",
       "      <th>Unnamed: 0</th>\n",
       "      <th>V0101</th>\n",
       "      <th>UF</th>\n",
       "      <th>V0102</th>\n",
       "      <th>V0103</th>\n",
       "      <th>V0104</th>\n",
       "      <th>V0105</th>\n",
       "      <th>V0106</th>\n",
       "      <th>V0201</th>\n",
       "      <th>V0202</th>\n",
       "      <th>...</th>\n",
       "      <th>V4622</th>\n",
       "      <th>V4624</th>\n",
       "      <th>V9992</th>\n",
       "      <th>estado</th>\n",
       "      <th>tresg</th>\n",
       "      <th>celular</th>\n",
       "      <th>usapc</th>\n",
       "      <th>usacel</th>\n",
       "      <th>tubo</th>\n",
       "      <th>digital</th>\n",
       "    </tr>\n",
       "  </thead>\n",
       "  <tbody>\n",
       "    <tr>\n",
       "      <th>93131</th>\n",
       "      <td>93131</td>\n",
       "      <td>2015</td>\n",
       "      <td>35</td>\n",
       "      <td>15</td>\n",
       "      <td>1</td>\n",
       "      <td>5</td>\n",
       "      <td>NaN</td>\n",
       "      <td>NaN</td>\n",
       "      <td>NaN</td>\n",
       "      <td>NaN</td>\n",
       "      <td>...</td>\n",
       "      <td>NaN</td>\n",
       "      <td>NaN</td>\n",
       "      <td>20161104</td>\n",
       "      <td>35</td>\n",
       "      <td>NaN</td>\n",
       "      <td>NaN</td>\n",
       "      <td>NaN</td>\n",
       "      <td>NaN</td>\n",
       "      <td>NaN</td>\n",
       "      <td>NaN</td>\n",
       "    </tr>\n",
       "    <tr>\n",
       "      <th>93132</th>\n",
       "      <td>93132</td>\n",
       "      <td>2015</td>\n",
       "      <td>35</td>\n",
       "      <td>15</td>\n",
       "      <td>2</td>\n",
       "      <td>1</td>\n",
       "      <td>2.0</td>\n",
       "      <td>2.0</td>\n",
       "      <td>1.0</td>\n",
       "      <td>4.0</td>\n",
       "      <td>...</td>\n",
       "      <td>7.0</td>\n",
       "      <td>1.0</td>\n",
       "      <td>20161104</td>\n",
       "      <td>35</td>\n",
       "      <td>Sim</td>\n",
       "      <td>Sim</td>\n",
       "      <td>Sim</td>\n",
       "      <td>Sim</td>\n",
       "      <td>0.0</td>\n",
       "      <td>1.0</td>\n",
       "    </tr>\n",
       "    <tr>\n",
       "      <th>93133</th>\n",
       "      <td>93133</td>\n",
       "      <td>2015</td>\n",
       "      <td>35</td>\n",
       "      <td>15</td>\n",
       "      <td>3</td>\n",
       "      <td>1</td>\n",
       "      <td>3.0</td>\n",
       "      <td>3.0</td>\n",
       "      <td>1.0</td>\n",
       "      <td>2.0</td>\n",
       "      <td>...</td>\n",
       "      <td>4.0</td>\n",
       "      <td>1.0</td>\n",
       "      <td>20161104</td>\n",
       "      <td>35</td>\n",
       "      <td>Sim</td>\n",
       "      <td>Sim</td>\n",
       "      <td>Sim</td>\n",
       "      <td>Sim</td>\n",
       "      <td>1.0</td>\n",
       "      <td>1.0</td>\n",
       "    </tr>\n",
       "    <tr>\n",
       "      <th>93134</th>\n",
       "      <td>93134</td>\n",
       "      <td>2015</td>\n",
       "      <td>35</td>\n",
       "      <td>15</td>\n",
       "      <td>4</td>\n",
       "      <td>6</td>\n",
       "      <td>NaN</td>\n",
       "      <td>NaN</td>\n",
       "      <td>NaN</td>\n",
       "      <td>NaN</td>\n",
       "      <td>...</td>\n",
       "      <td>NaN</td>\n",
       "      <td>NaN</td>\n",
       "      <td>20161104</td>\n",
       "      <td>35</td>\n",
       "      <td>NaN</td>\n",
       "      <td>NaN</td>\n",
       "      <td>NaN</td>\n",
       "      <td>NaN</td>\n",
       "      <td>NaN</td>\n",
       "      <td>NaN</td>\n",
       "    </tr>\n",
       "    <tr>\n",
       "      <th>93135</th>\n",
       "      <td>93135</td>\n",
       "      <td>2015</td>\n",
       "      <td>35</td>\n",
       "      <td>15</td>\n",
       "      <td>5</td>\n",
       "      <td>1</td>\n",
       "      <td>1.0</td>\n",
       "      <td>1.0</td>\n",
       "      <td>1.0</td>\n",
       "      <td>4.0</td>\n",
       "      <td>...</td>\n",
       "      <td>6.0</td>\n",
       "      <td>1.0</td>\n",
       "      <td>20161104</td>\n",
       "      <td>35</td>\n",
       "      <td>Sim</td>\n",
       "      <td>Sim</td>\n",
       "      <td>Sim</td>\n",
       "      <td>Sim</td>\n",
       "      <td>1.0</td>\n",
       "      <td>1.0</td>\n",
       "    </tr>\n",
       "  </tbody>\n",
       "</table>\n",
       "<p>5 rows × 88 columns</p>\n",
       "</div>"
      ],
      "text/plain": [
       "       Unnamed: 0  V0101  UF  V0102  V0103  V0104  V0105  V0106  V0201  V0202  \\\n",
       "93131       93131   2015  35     15      1      5    NaN    NaN    NaN    NaN   \n",
       "93132       93132   2015  35     15      2      1    2.0    2.0    1.0    4.0   \n",
       "93133       93133   2015  35     15      3      1    3.0    3.0    1.0    2.0   \n",
       "93134       93134   2015  35     15      4      6    NaN    NaN    NaN    NaN   \n",
       "93135       93135   2015  35     15      5      1    1.0    1.0    1.0    4.0   \n",
       "\n",
       "        ...     V4622  V4624     V9992  estado  tresg  celular  usapc  usacel  \\\n",
       "93131   ...       NaN    NaN  20161104      35    NaN      NaN    NaN     NaN   \n",
       "93132   ...       7.0    1.0  20161104      35    Sim      Sim    Sim     Sim   \n",
       "93133   ...       4.0    1.0  20161104      35    Sim      Sim    Sim     Sim   \n",
       "93134   ...       NaN    NaN  20161104      35    NaN      NaN    NaN     NaN   \n",
       "93135   ...       6.0    1.0  20161104      35    Sim      Sim    Sim     Sim   \n",
       "\n",
       "       tubo  digital  \n",
       "93131   NaN      NaN  \n",
       "93132   0.0      1.0  \n",
       "93133   1.0      1.0  \n",
       "93134   NaN      NaN  \n",
       "93135   1.0      1.0  \n",
       "\n",
       "[5 rows x 88 columns]"
      ]
     },
     "execution_count": 18,
     "metadata": {},
     "output_type": "execute_result"
    }
   ],
   "source": [
    "dadossp15.head()"
   ]
  },
  {
   "cell_type": "code",
   "execution_count": 19,
   "metadata": {
    "collapsed": true
   },
   "outputs": [],
   "source": [
    "dadossp15.digital.cat.categories = ('Sim','Não','Não sabe')\n",
    "dadossp13.digital.cat.categories = ('Sim','Não','Não sabe')"
   ]
  },
  {
   "cell_type": "code",
   "execution_count": 20,
   "metadata": {
    "collapsed": false
   },
   "outputs": [],
   "source": [
    "d1 =  dadossp13.dropna(subset = ['tresg', 'celular', 'usapc', 'usacel', 'tubo', 'digital','V4614'])\n",
    "d2 =  dadossp13.dropna(subset = ['tresg', 'celular', 'usapc', 'usacel', 'tubo', 'digital','V4614'])"
   ]
  },
  {
   "cell_type": "code",
   "execution_count": null,
   "metadata": {
    "collapsed": true
   },
   "outputs": [],
   "source": []
  },
  {
   "cell_type": "code",
   "execution_count": 21,
   "metadata": {
    "collapsed": false
   },
   "outputs": [
    {
     "data": {
      "text/plain": [
       "<matplotlib.text.Text at 0x1ac26e22ef0>"
      ]
     },
     "execution_count": 21,
     "metadata": {},
     "output_type": "execute_result"
    },
    {
     "data": {
      "image/png": "[encoded data removed]",
      "text/plain": [
       "<matplotlib.figure.Figure at 0x1ac1b8a02b0>"
      ]
     },
     "metadata": {},
     "output_type": "display_data"
    }
   ],
   "source": [
    "plot2= d1.digital.value_counts(True).plot.bar(title='Possui televisões com recepção digital?',figsize=(9,9), color=('b','r','g','y','m'))\n",
    "plt.ylabel('Pessoas (em %)')"
   ]
  },
  {
   "cell_type": "code",
   "execution_count": 22,
   "metadata": {
    "collapsed": false
   },
   "outputs": [
    {
     "data": {
      "text/plain": [
       "<matplotlib.text.Text at 0x1ac26d23390>"
      ]
     },
     "execution_count": 22,
     "metadata": {},
     "output_type": "execute_result"
    },
    {
     "data": {
      "image/png": "[encoded data removed]",
      "text/plain": [
       "<matplotlib.figure.Figure at 0x1ac26e8d940>"
      ]
     },
     "metadata": {},
     "output_type": "display_data"
    }
   ],
   "source": [
    "plot1 = d2.tubo.value_counts(True).plot.bar(title='Possui quantas televisões de tubo',figsize=(9,9), color=('b','r','g','y','m'))\n",
    "plt.ylabel('Pessoas (em %)')\n",
    "\n"
   ]
  },
  {
   "cell_type": "code",
   "execution_count": 23,
   "metadata": {
    "collapsed": false
   },
   "outputs": [],
   "source": [
    "#digitalbaixa = dadossp15.digital[dadossp15.digital] == \"Não\")\n",
    "digitalbaixa = dadossp15[(dadossp15[\"digital\"] == \"Não\")]"
   ]
  },
  {
   "cell_type": "code",
   "execution_count": 24,
   "metadata": {
    "collapsed": false
   },
   "outputs": [],
   "source": [
    "#plot = digitalbaixa.V4614[(dadossp15.V4614 < 500)].plot.hist(bins = 20, alpha = 0.5, color = \"red\", figsize = (9,9), normed = 1, title='titulo')\n",
    "\n",
    "faixa2= arange(0,100000,10)\n"
   ]
  },
  {
   "cell_type": "code",
   "execution_count": 25,
   "metadata": {
    "collapsed": false
   },
   "outputs": [],
   "source": [
    "ut73 = pd.crosstab( d2.digital, d2.V4614)\n",
    "\n"
   ]
  },
  {
   "cell_type": "code",
   "execution_count": 26,
   "metadata": {
    "collapsed": false
   },
   "outputs": [],
   "source": [
    "#plot = ut73.plot.hist(title='HISTOGRAMA - PLANO A',bins = faixa2, figsize=(9, 9), normed=1, alpha=0.5)\n"
   ]
  },
  {
   "cell_type": "code",
   "execution_count": 27,
   "metadata": {
    "collapsed": false
   },
   "outputs": [
    {
     "data": {
      "text/plain": [
       "count    161.000000\n",
       "mean     152.987578\n",
       "std      162.958238\n",
       "min        0.000000\n",
       "25%        0.000000\n",
       "50%      110.000000\n",
       "75%      300.000000\n",
       "max      480.000000\n",
       "Name: V4614, dtype: float64"
      ]
     },
     "execution_count": 27,
     "metadata": {},
     "output_type": "execute_result"
    }
   ],
   "source": [
    "digitalbaixa.V4614[digitalbaixa.V4614 <500].describe()"
   ]
  },
  {
   "cell_type": "markdown",
   "metadata": {},
   "source": []
  },
  {
   "cell_type": "markdown",
   "metadata": {
    "collapsed": false
   },
   "source": [
    "___\n",
    "## Conclusão "
   ]
  },
  {
   "cell_type": "markdown",
   "metadata": {
    "collapsed": true
   },
   "source": [
    "Descreva aqui suas conclusões!"
   ]
  },
  {
   "cell_type": "code",
   "execution_count": null,
   "metadata": {
    "collapsed": false
   },
   "outputs": [],
   "source": [
    "dados2015.head()"
   ]
  },
  {
   "cell_type": "code",
   "execution_count": null,
   "metadata": {
    "collapsed": true
   },
   "outputs": [],
   "source": [
    "dados15 = pd.DataFrame()"
   ]
  },
  {
   "cell_type": "code",
   "execution_count": null,
   "metadata": {
    "collapsed": false
   },
   "outputs": [],
   "source": [
    "dados15 = dados2015"
   ]
  },
  {
   "cell_type": "code",
   "execution_count": null,
   "metadata": {
    "collapsed": false
   },
   "outputs": [],
   "source": [
    "\n",
    "faixa = arange(0.5,25,3.5)\n",
    "dados15.renda = dados15.V4611\n",
    "\n",
    "\n",
    "#pobre = dados2015.V02424.astype('category')\n",
    "#pobre['tipo'] = pobre.V0202.astype('category')"
   ]
  },
  {
   "cell_type": "code",
   "execution_count": null,
   "metadata": {
    "collapsed": false
   },
   "outputs": [],
   "source": [
    "dados15.renda.head()"
   ]
  },
  {
   "cell_type": "code",
   "execution_count": null,
   "metadata": {
    "collapsed": false
   },
   "outputs": [],
   "source": [
    "\n",
    "dados15.tres.cat.categories = ('Sim', 'Não')\n",
    "\n",
    "dados15.tres.head()\n",
    "\n",
    "#pobre.tres.cat.categories = ('casa','apartamento','comodo')\n",
    "#ut0 = ((ap.sexo.value_counts()/n)*100).round(decimals=1)\n",
    "\n",
    "#plot = ut0.plot(kind='pie',title='Pop. dos aposentados por sexo',autopct='%.1f',figsize=(6, 6))\n",
    "#plt.ylabel('Freq.Relativa (em%)')\n",
    "#plt.xlabel('Sexo')\n",
    "\n",
    "#ut73 = pd.crosstab(ap.regiao, d.apo)\n",
    "#plot = ut73.plot(kind='bar',title='Aposentados em cada regiao',figsize=(6, 6),color = ('b','w','k','r','y','c'))\n",
    "#plt.ylabel('numero de aposentados')"
   ]
  },
  {
   "cell_type": "code",
   "execution_count": null,
   "metadata": {
    "collapsed": false
   },
   "outputs": [],
   "source": [
    "df3 = (dados15.tres).dropna()"
   ]
  },
  {
   "cell_type": "code",
   "execution_count": null,
   "metadata": {
    "collapsed": false
   },
   "outputs": [],
   "source": []
  },
  {
   "cell_type": "code",
   "execution_count": null,
   "metadata": {
    "collapsed": false
   },
   "outputs": [],
   "source": [
    "#df.dropna(subset = ['colunas', 'fbfeiwfun', 'uefisifdn'])"
   ]
  },
  {
   "cell_type": "code",
   "execution_count": null,
   "metadata": {
    "collapsed": false
   },
   "outputs": [],
   "source": [
    "plt.subplot(1,3,3)\n",
    "plot = dados.L2000.plot.hist(bins=faixa,title='Frequência Absoluta da espectativa de vida ano de 2000', ylim = (0,160), color = ('r'), figsize=(18, 6), alpha=0.5)\n",
    "plt.ylabel('Frequência absoluta')\n",
    "plt.xlabel('expectativa de vida (em anos)')\n",
    "plt.show()"
   ]
  },
  {
   "cell_type": "code",
   "execution_count": null,
   "metadata": {
    "collapsed": true
   },
   "outputs": [],
   "source": []
  },
  {
   "cell_type": "code",
   "execution_count": null,
   "metadata": {
    "collapsed": true
   },
   "outputs": [],
   "source": []
  },
  {
   "cell_type": "code",
   "execution_count": null,
   "metadata": {
    "collapsed": true
   },
   "outputs": [],
   "source": []
  }
 ],
 "metadata": {
  "anaconda-cloud": {},
  "kernelspec": {
   "display_name": "Python 3",
   "language": "python",
   "name": "python3"
  },
  "language_info": {
   "codemirror_mode": {
    "name": "ipython",
    "version": 3
   },
   "file_extension": ".py",
   "mimetype": "text/x-python",
   "name": "python",
   "nbconvert_exporter": "python",
   "pygments_lexer": "ipython3",
   "version": "3.5.1"
  }
 },
 "nbformat": 4,
 "nbformat_minor": 0
}
