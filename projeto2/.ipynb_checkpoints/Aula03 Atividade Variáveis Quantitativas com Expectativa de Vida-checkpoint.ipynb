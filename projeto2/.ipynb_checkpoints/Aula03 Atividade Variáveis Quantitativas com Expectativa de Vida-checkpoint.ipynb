{
 "cells": [
  {
   "cell_type": "markdown",
   "metadata": {},
   "source": [
    "## <font color='blue'>Matheus de Souza Pamplona Silva</font>"
   ]
  },
  {
   "cell_type": "markdown",
   "metadata": {},
   "source": [
    "___\n",
    "# Atividade: Variáveis quantitativas com Expectativa de Vida\n",
    "___\n",
    "\n",
    "## Aula 03\n",
    "\n",
    "\n",
    "\n",
    "**Preparo prévio:**\n",
    "1.\tLeitura prévia necessária: Magalhães e Lima (7ª. Edição): pág. 9 a 17 – destacando para variáveis quantitativas; pág. 106 e 107 (Definição 4.1 e Exemplo 4.1).\n",
    "\n",
    "**Hoje:**\n",
    "1. Explorar a variável quantitativa Expectativa de Vida de diversos países do mundo nos anos: 1800, 1926 e 2000. \n",
    "2. Construir tabelas de frequências e interpretar resultados considerando variáveis quantitativas de forma univariada. \n",
    "4. Explicar vantagens e desvantagens sobre o uso da frequência ou da densidade na construção de um histograma e saber interpretá-lo. \n",
    "5. Desenvolver contas para obtenção da média e mediana nos três anos.\n",
    "6. Identificar o formato dos dados (simétrico, assimétrico positivo ou assimétrico negativo) ao observar um histograma e explicar o que cada formato pode impactar nas medidas de posição.\n",
    "\n",
    "\n",
    "**Próxima aula:**\n",
    "1. Leitura prévia necessária: Magalhães e Lima (7ª. Edição): pág. 18 a 25; pág. 106 e 107 (Definição 4.1 e Exemplo 4.1); pág. 116 e 117 (Definição 4.4 e Exemplo 4.8). \n",
    "2. Leitura prévia necessária: Montgomery et al (5ª. Edição): pág. 24 a 28.\n",
    "___\n"
   ]
  },
  {
   "cell_type": "markdown",
   "metadata": {},
   "source": [
    "## <font color='blue'>Expectativa de Vida - LIFE</font>\n",
    "\n",
    "O Banco Mundial (http://data.worldbank.org/brazilian-portuguese) disponibiliza bases de dados estatísticos para um pouco mais de 200 países do mundo desde o ano 1800, as quais consideram uma seleção abrangente de indicadores econômicos, sociais e ambientais. Um desses indicadores é a expectativa de vida (em anos) de cada país.\n",
    "\n",
    "O arquivo `Life.xlsx` contém a expectativa de vida de vários países para os anos 1800, 1926 e 2000.\n",
    "\n",
    "Considerando esses dados, faça as seguintes tarefas:\n",
    "\n",
    "1.\tConstrua uma tabela de frequências absolutas e relativas (em %) para cada um dos anos. \n",
    "\n",
    "2.\tConstrua um histograma para cada ano e interprete os gráficos. \n",
    "\n",
    "3. De acordo com o formato de um histograma, é possível classificar a distribuição dos dados como sendo: simétrica, assimétrica positiva (ou a direita) ou assimétrica negativa (ou a esquerda). Observando o formato de cada histograma construído no item anterior, classifique como sendo simétrico, assimétrico positivo ou assimétrico negativo. Argumente claramente o motivo de sua classificação. \n",
    "![AssimSim](AssimSim.jpg)\n",
    "\n",
    "4.\tPara cada ano, calcule a expectativa média de vida, a expectativa mediana de vida e a classe modal.\n",
    "\n",
    "5.\tPara cada um dos três anos, ordene os valores das medidas de posição (média, mediana e classe modal) obtidas no item anterior. A ordem dessas três medidas de posição é um mero acaso ou pode ser consequência do formato dos dados? Argumente claramente sua resposta.\n"
   ]
  },
  {
   "cell_type": "code",
   "execution_count": 1,
   "metadata": {
    "collapsed": false
   },
   "outputs": [],
   "source": [
    "%matplotlib inline\n",
    "import pandas as pd\n",
    "import matplotlib.pyplot as plt\n",
    "import os\n",
    "from numpy import arange\n",
    "\n",
    "from numpy import zeros_like"
   ]
  },
  {
   "cell_type": "code",
   "execution_count": 2,
   "metadata": {
    "collapsed": false
   },
   "outputs": [
    {
     "name": "stdout",
     "output_type": "stream",
     "text": [
      "Esperamos trabalhar no diretório\n",
      "C:\\Users\\Matheus\\Desktop\\Insper\\3ºSEMESTRE\\Nova pasta (5)\n"
     ]
    }
   ],
   "source": [
    "print('Esperamos trabalhar no diretório')\n",
    "print(os.getcwd())"
   ]
  },
  {
   "cell_type": "code",
   "execution_count": 3,
   "metadata": {
    "collapsed": false
   },
   "outputs": [],
   "source": [
    "dados = pd.read_excel('Life.xlsx')"
   ]
  },
  {
   "cell_type": "code",
   "execution_count": 4,
   "metadata": {
    "collapsed": false
   },
   "outputs": [
    {
     "data": {
      "text/html": [
       "<div>\n",
       "<table border=\"1\" class=\"dataframe\">\n",
       "  <thead>\n",
       "    <tr style=\"text-align: right;\">\n",
       "      <th></th>\n",
       "      <th>L1800</th>\n",
       "      <th>L1926</th>\n",
       "      <th>L2000</th>\n",
       "    </tr>\n",
       "  </thead>\n",
       "  <tbody>\n",
       "    <tr>\n",
       "      <th>count</th>\n",
       "      <td>201.000000</td>\n",
       "      <td>201.000000</td>\n",
       "      <td>201.000000</td>\n",
       "    </tr>\n",
       "    <tr>\n",
       "      <th>mean</th>\n",
       "      <td>31.485800</td>\n",
       "      <td>36.353496</td>\n",
       "      <td>68.012856</td>\n",
       "    </tr>\n",
       "    <tr>\n",
       "      <th>std</th>\n",
       "      <td>3.763625</td>\n",
       "      <td>9.590987</td>\n",
       "      <td>9.211812</td>\n",
       "    </tr>\n",
       "    <tr>\n",
       "      <th>min</th>\n",
       "      <td>23.387000</td>\n",
       "      <td>23.387000</td>\n",
       "      <td>45.700000</td>\n",
       "    </tr>\n",
       "    <tr>\n",
       "      <th>25%</th>\n",
       "      <td>29.000000</td>\n",
       "      <td>30.400000</td>\n",
       "      <td>61.400000</td>\n",
       "    </tr>\n",
       "    <tr>\n",
       "      <th>50%</th>\n",
       "      <td>31.800000</td>\n",
       "      <td>32.800000</td>\n",
       "      <td>71.200000</td>\n",
       "    </tr>\n",
       "    <tr>\n",
       "      <th>75%</th>\n",
       "      <td>33.900000</td>\n",
       "      <td>39.360000</td>\n",
       "      <td>75.000000</td>\n",
       "    </tr>\n",
       "    <tr>\n",
       "      <th>max</th>\n",
       "      <td>42.845599</td>\n",
       "      <td>63.260000</td>\n",
       "      <td>81.100000</td>\n",
       "    </tr>\n",
       "  </tbody>\n",
       "</table>\n",
       "</div>"
      ],
      "text/plain": [
       "            L1800       L1926       L2000\n",
       "count  201.000000  201.000000  201.000000\n",
       "mean    31.485800   36.353496   68.012856\n",
       "std      3.763625    9.590987    9.211812\n",
       "min     23.387000   23.387000   45.700000\n",
       "25%     29.000000   30.400000   61.400000\n",
       "50%     31.800000   32.800000   71.200000\n",
       "75%     33.900000   39.360000   75.000000\n",
       "max     42.845599   63.260000   81.100000"
      ]
     },
     "execution_count": 4,
     "metadata": {},
     "output_type": "execute_result"
    }
   ],
   "source": [
    "dados.head()\n",
    "dados.describe()"
   ]
  },
  {
   "cell_type": "code",
   "execution_count": 5,
   "metadata": {
    "collapsed": false
   },
   "outputs": [],
   "source": [
    "L1800 = dados.L1800\n",
    "L1926 = dados.L1926\n",
    "L2000 = dados.L2000\n"
   ]
  },
  {
   "cell_type": "code",
   "execution_count": 6,
   "metadata": {
    "collapsed": true
   },
   "outputs": [],
   "source": [
    "faixa = arange(20,90,14)"
   ]
  },
  {
   "cell_type": "code",
   "execution_count": 7,
   "metadata": {
    "collapsed": false
   },
   "outputs": [],
   "source": [
    "L1800 = pd.cut(L1800, faixa, False)\n",
    "L1926 = pd.cut(L1926, faixa, False)\n",
    "L2000 = pd.cut(L2000, faixa, False)\n"
   ]
  },
  {
   "cell_type": "markdown",
   "metadata": {},
   "source": [
    "## <font color='blue'>1.1 - tabela de frequencias absolutas</font>"
   ]
  },
  {
   "cell_type": "code",
   "execution_count": 8,
   "metadata": {
    "collapsed": false
   },
   "outputs": [
    {
     "name": "stdout",
     "output_type": "stream",
     "text": [
      "Frequências absolutas de 1800:\n",
      "[20, 34)    153.0\n",
      "[34, 48)     48.0\n",
      "[48, 62)      0.0\n",
      "[62, 76)      0.0\n",
      "[76, 90)      NaN\n",
      "dtype: float64 \n",
      "\n",
      "Frequências absolutas de 1926:\n",
      "[20, 34)    115.0\n",
      "[34, 48)     57.0\n",
      "[48, 62)     25.0\n",
      "[62, 76)      4.0\n",
      "[76, 90)      NaN\n",
      "dtype: float64 \n",
      "\n",
      "Frequências absolutas de 2000:\n",
      "[20, 34)      0.0\n",
      "[34, 48)      4.0\n",
      "[48, 62)     50.0\n",
      "[62, 76)    105.0\n",
      "[76, 90)      NaN\n",
      "dtype: float64 \n",
      "\n"
     ]
    }
   ],
   "source": [
    "L1800.head()\n",
    "\n",
    "print('Frequências absolutas de 1800:')\n",
    "ut1 = L1800.value_counts().reindex(['[20, 34)', '[34, 48)', '[48, 62)', '[62, 76)','[76, 90)'])\n",
    "print(ut1,'\\n')\n",
    "\n",
    "print('Frequências absolutas de 1926:')\n",
    "ut2 = L1926.value_counts().reindex(['[20, 34)', '[34, 48)', '[48, 62)', '[62, 76)','[76, 90)'])\n",
    "print(ut2,'\\n')\n",
    "\n",
    "print('Frequências absolutas de 2000:')\n",
    "ut3 = L2000.value_counts().reindex(['[20, 34)', '[34, 48)', '[48, 62)', '[62, 76)','[76, 90)'])\n",
    "print(ut3,'\\n')"
   ]
  },
  {
   "cell_type": "markdown",
   "metadata": {},
   "source": [
    "## <font color='blue'>1.2 - tabela de frequencias relativas</font>"
   ]
  },
  {
   "cell_type": "code",
   "execution_count": 9,
   "metadata": {
    "collapsed": false
   },
   "outputs": [
    {
     "name": "stdout",
     "output_type": "stream",
     "text": [
      "Frequências relativas de 1800:\n",
      "[20, 34)     76.1\n",
      "[34, 48)     23.9\n",
      "[48, 62)      0.0\n",
      "[62, 76)      0.0\n",
      "[76, 90)]     NaN\n",
      "dtype: float64 \n",
      "\n",
      "Frequências relativas de 1926:\n",
      "[20, 34)     57.2\n",
      "[34, 48)     28.4\n",
      "[48, 62)     12.4\n",
      "[62, 76)      2.0\n",
      "[76, 90)]     NaN\n",
      "dtype: float64 \n",
      "\n",
      "Frequências relativas de 2000:\n",
      "[20, 34)     0.0\n",
      "[34, 48)     2.0\n",
      "[48, 62)    24.9\n",
      "[62, 76)    52.2\n",
      "[76, 90)     NaN\n",
      "dtype: float64 \n",
      "\n"
     ]
    }
   ],
   "source": [
    "print('Frequências relativas de 1800:')\n",
    "ut4 = (L1800.value_counts(True)*100).round(decimals=1).reindex(['[20, 34)', '[34, 48)', '[48, 62)', '[62, 76)','[76, 90)]'])\n",
    "print(ut4,'\\n')\n",
    "\n",
    "print('Frequências relativas de 1926:')\n",
    "ut5 = (L1926.value_counts(True)*100).round(decimals=1).reindex(['[20, 34)', '[34, 48)', '[48, 62)', '[62, 76)','[76, 90)]'])\n",
    "print(ut5,'\\n')\n",
    "\n",
    "print('Frequências relativas de 2000:')\n",
    "ut6 = (L2000.value_counts(True)*100).round(decimals=1).reindex(['[20, 34)', '[34, 48)', '[48, 62)', '[62, 76)','[76, 90)'])\n",
    "print(ut6,'\\n')"
   ]
  },
  {
   "cell_type": "markdown",
   "metadata": {},
   "source": [
    "## <font color='blue'>2.1 Construção do histograma</font>"
   ]
  },
  {
   "cell_type": "code",
   "execution_count": 17,
   "metadata": {
    "collapsed": false
   },
   "outputs": [
    {
     "data": {
      "image/png": "[encoded data removed]",
      "text/plain": [
       "<matplotlib.figure.Figure at 0x1b1f0ee3f98>"
      ]
     },
     "metadata": {},
     "output_type": "display_data"
    }
   ],
   "source": [
    "plt.ylim = (160)\n",
    "\n",
    "plt.subplot(1,3,1)\n",
    "plot = dados.L1800.plot.hist(bins=faixa,title='Frequência Absoluta da espectativa de vida ano de 1800', color = ('g'), figsize=(18, 6), alpha=0.5)\n",
    "plt.ylabel('Frequência absoluta')\n",
    "plt.xlabel('expectativa de vida (em anos)')\n",
    "\n",
    "plt.subplot(1,3,2)\n",
    "plot = dados.L1926.plot.hist(bins=faixa,title='Frequência Absoluta da espectativa de vida ano de 1926', ylim = (0,160), color = ('y'), figsize=(18, 6), alpha=0.5)\n",
    "plt.ylabel('Frequência absoluta')\n",
    "plt.xlabel('expectativa de vida (em anos)')\n",
    "\n",
    "plt.subplot(1,3,3)\n",
    "plot = dados.L2000.plot.hist(bins=faixa,title='Frequência Absoluta da espectativa de vida ano de 2000', ylim = (0,160), color = ('r'), figsize=(18, 6), alpha=0.5)\n",
    "plt.ylabel('Frequência absoluta')\n",
    "plt.xlabel('expectativa de vida (em anos)')\n",
    "plt.show()"
   ]
  },
  {
   "cell_type": "code",
   "execution_count": 19,
   "metadata": {
    "collapsed": false
   },
   "outputs": [
    {
     "data": {
      "image/png": "[encoded data removed]",
      "text/plain": [
       "<matplotlib.figure.Figure at 0x1b1f0f23128>"
      ]
     },
     "metadata": {},
     "output_type": "display_data"
    }
   ],
   "source": [
    "plt.subplot(1,3,1)\n",
    "plot = dados.L1800.plot.hist(bins=faixa,title='Frequência relativa da espectativa de vida ano de 1800', ylim = (0,100), color = ('g'), weights=zeros_like(dados.L1800)+1./dados.L1800.size*100, figsize=(18, 6), alpha=0.5)\n",
    "plt.ylabel('Frequência relativa (em %)')\n",
    "plt.xlabel('expectativa de vida (em anos)')\n",
    "\n",
    "plt.subplot(1,3,2)\n",
    "plot = dados.L1926.plot.hist(bins=faixa,title='Frequência relativa da espectativa de vida ano de 1926', color = ('y'), ylim = (0,100), weights=zeros_like(dados.L1926)+1./dados.L1926.size*100, figsize=(18, 6), alpha=0.5)\n",
    "plt.ylabel('Frequência relativa (em %)')\n",
    "plt.xlabel('expectativa de vida (em anos)')\n",
    "\n",
    "plt.subplot(1,3,3)\n",
    "plot = dados.L2000.plot.hist(bins=faixa,title='Frequência relativa da espectativa de vida ano de 2000', color = ('r'), ylim = (0,100), weights=zeros_like(dados.L2000)+1./dados.L2000.size*100, figsize=(18, 6), alpha=0.5)\n",
    "plt.ylabel('Frequência relativa (em %)')\n",
    "plt.xlabel('expectativa de vida (em anos)')\n",
    "plt.show()"
   ]
  },
  {
   "cell_type": "markdown",
   "metadata": {},
   "source": [
    "## <font color='blue'>2.2 interpretação dos resultados fornecidos pelos gráficos</font>"
   ]
  },
  {
   "cell_type": "markdown",
   "metadata": {
    "collapsed": true
   },
   "source": [
    "Com a construção do histograma é visível o crescimento da espectativa de vida na maioria dos paises sendo o primeiro intervalo (20 - 34) extinto na terceira amostra, evidenciando o crescimento da espectativa de vida como um todo."
   ]
  },
  {
   "cell_type": "markdown",
   "metadata": {},
   "source": [
    "## <font color='blue'>3 interpretação do formato do gráfico</font>"
   ]
  },
  {
   "cell_type": "markdown",
   "metadata": {},
   "source": [
    "Os gráficos referentes ao ano de 1800 apresentaram uma pequena assimetria, mas que pode ser considerado neutro, já os de 1926 foi visto uma maior assimetria a direita, já no final é visto no ano de 2000 uma inversão, na qual a assimetria é para a esquerda. Essa assimetria é causada pelo deslocamento da média em relação a mediana."
   ]
  },
  {
   "cell_type": "markdown",
   "metadata": {},
   "source": [
    "## <font color='blue'>4. calculo da média, mediana e moda</font>"
   ]
  },
  {
   "cell_type": "code",
   "execution_count": 21,
   "metadata": {
    "collapsed": false
   },
   "outputs": [
    {
     "name": "stdout",
     "output_type": "stream",
     "text": [
      "Expectativa de Vida Média de 1800: 31.485799715054547\n",
      "Expectativa de Vida Média de 1926: 36.35349645910288\n",
      "Expectativa de Vida Média de 2000: 68.01285572139301\n",
      "Expectativa de Vida Mediano de 1800: 31.8\n",
      "Expectativa de Vida Mediano de 1926: 32.8\n",
      "Expectativa de Vida Mediano de 2000: 71.2\n"
     ]
    }
   ],
   "source": [
    "print('Expectativa de Vida Média de 1800:', dados.L1800.mean())\n",
    "print('Expectativa de Vida Média de 1926:', dados.L1926.mean())\n",
    "print('Expectativa de Vida Média de 2000:', dados.L2000.mean())\n",
    "\n",
    "print('Expectativa de Vida Mediano de 1800:', dados.L1800.median())\n",
    "print('Expectativa de Vida Mediano de 1926:', dados.L1926.median())\n",
    "print('Expectativa de Vida Mediano de 2000:', dados.L2000.median())"
   ]
  },
  {
   "cell_type": "markdown",
   "metadata": {},
   "source": [
    "para os dois primeiros anos analisados a moda fica no intervalo de (20-34) já no ano de 2000 a moda fica no intervalo de (62-76)"
   ]
  },
  {
   "cell_type": "markdown",
   "metadata": {},
   "source": [
    "## <font color='blue'>5. ordenação da mediana, média e moda</font>"
   ]
  },
  {
   "cell_type": "markdown",
   "metadata": {
    "collapsed": true
   },
   "source": [
    "para 1800 é visto uma pequena diferença para menos da média para a mediana e a moda também circula um valor parecido.\n",
    "Para o ano de 1926 é visto uma média maior que a mediana mostrando a assimetria a direita, sendo a moda em valores parecidas.\n",
    "Para o ano de 2000 é visto a média menor que a medianna evidenciando a assimetria a esquerda, e a moda também tem valores parecidos.\n",
    "\n",
    "Dessa forma é possível concluir que a diferença da média para a mediana evidencia a assimetria da distribuição. Enquanto a moda mostra o valor mais presente entre os países."
   ]
  }
 ],
 "metadata": {
  "anaconda-cloud": {},
  "kernelspec": {
   "display_name": "Python 3",
   "language": "python",
   "name": "python3"
  },
  "language_info": {
   "codemirror_mode": {
    "name": "ipython",
    "version": 3
   },
   "file_extension": ".py",
   "mimetype": "text/x-python",
   "name": "python",
   "nbconvert_exporter": "python",
   "pygments_lexer": "ipython3",
   "version": "3.5.1"
  }
 },
 "nbformat": 4,
 "nbformat_minor": 0
}
