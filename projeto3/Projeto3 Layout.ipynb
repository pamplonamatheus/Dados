{
 "cells": [
  {
   "cell_type": "markdown",
   "metadata": {},
   "source": [
    "___\n",
    "# PROJETO 3"
   ]
  },
  {
   "cell_type": "markdown",
   "metadata": {},
   "source": [
    "## GRUPO:\n",
    "### Matheus de Souza Pamplona Silva\n",
    "___"
   ]
  },
  {
   "cell_type": "code",
   "execution_count": 1,
   "metadata": {
    "collapsed": false
   },
   "outputs": [
    {
     "name": "stdout",
     "output_type": "stream",
     "text": [
      "Esperamos trabalhar no diretório\n",
      "C:\\Users\\Matheus\\Documents\\GitHub\\CDAgoraVai\\aula19\n"
     ]
    }
   ],
   "source": [
    "%matplotlib inline\n",
    "import pandas as pd\n",
    "import matplotlib.pyplot as plt\n",
    "import numpy as np\n",
    "import os\n",
    "from scipy import stats\n",
    "\n",
    "print('Esperamos trabalhar no diretório')\n",
    "print(os.getcwd())"
   ]
  },
  {
   "cell_type": "code",
   "execution_count": null,
   "metadata": {
    "collapsed": true
   },
   "outputs": [],
   "source": []
  },
  {
   "cell_type": "markdown",
   "metadata": {},
   "source": [
    "___\n",
    "## Estudo da Distribuição da Média Amostral  $\\bar{X}$  via SIMULAÇÃO"
   ]
  },
  {
   "cell_type": "markdown",
   "metadata": {},
   "source": [
    "O início da análise começa com o sorteio de valores em T"
   ]
  },
  {
   "cell_type": "code",
   "execution_count": 2,
   "metadata": {
    "collapsed": false
   },
   "outputs": [],
   "source": [
    "T = stats.t.rvs(2, loc=3, scale=1, size=100000, random_state=None)"
   ]
  },
  {
   "cell_type": "markdown",
   "metadata": {},
   "source": [
    "Agora também é necessário valores como a média e a variância"
   ]
  },
  {
   "cell_type": "code",
   "execution_count": 3,
   "metadata": {
    "collapsed": true
   },
   "outputs": [],
   "source": [
    "mi = np.mean(T)\n",
    "var = np.var(T)"
   ]
  },
  {
   "cell_type": "code",
   "execution_count": 9,
   "metadata": {
    "collapsed": false
   },
   "outputs": [],
   "source": [
    "mediaamost = []\n",
    "\n",
    "for i in range(10000): \n",
    "    media = []\n",
    "    \n",
    "    for u in range(2):      \n",
    "        media.append(np.random.choice(T))  \n",
    "        \n",
    "    mediaam = sum(media)/2\n",
    "    \n",
    "    mediaamost.append(mediaam)\n",
    "\n",
    "medmed = np.mean(mediaamost)\n",
    "varmed = np.var(mediaamost)"
   ]
  },
  {
   "cell_type": "markdown",
   "metadata": {},
   "source": [
    "A seguir é visto a média/esperança calculada em cima das médias recebidas pelo sorteio"
   ]
  },
  {
   "cell_type": "code",
   "execution_count": 10,
   "metadata": {
    "collapsed": false
   },
   "outputs": [
    {
     "name": "stdout",
     "output_type": "stream",
     "text": [
      "esperança das medias amostrais:  2.9782639739\n",
      "varianca das medias amostrais:  4.55779806744\n"
     ]
    }
   ],
   "source": [
    "print(\"esperança das medias amostrais: \",medmed)\n",
    "print(\"varianca das medias amostrais: \",varmed)"
   ]
  },
  {
   "cell_type": "code",
   "execution_count": 39,
   "metadata": {
    "collapsed": false
   },
   "outputs": [
    {
     "data": {
      "image/png": "[encoded data removed]",
      "text/plain": [
       "<matplotlib.figure.Figure at 0x22738f1f400>"
      ]
     },
     "metadata": {},
     "output_type": "display_data"
    }
   ],
   "source": [
    "MediaAmostral = sorted(mediaamost)\n",
    "pd.Series(MediaAmostral)\n",
    "\n",
    "plt.hist(MediaAmostral, bins = np.arange(0,6,0.3), color = ('r'), normed = 1)\n",
    "plt.ylabel(\"Densidade\")\n",
    "plt.xlabel(\"Media amostral\")\n",
    "plt.show()"
   ]
  },
  {
   "cell_type": "markdown",
   "metadata": {},
   "source": [
    "O TLC(teorema do limite central) diz em uma forma resumida, que a distribuição das médias amostrais de quaisquer que sejam as distribuições das amostras iniciais, formarão uma distribuição normal, sendo sua perfeição alcançada basicamente pelo número 'n' de amostras obtidas."
   ]
  },
  {
   "cell_type": "code",
   "execution_count": 40,
   "metadata": {
    "collapsed": false
   },
   "outputs": [
    {
     "name": "stdout",
     "output_type": "stream",
     "text": [
      "Media das Medias amostrais:  14.9966105252\n",
      "Varianca das Medias amostrais:  13.2192419305\n"
     ]
    },
    {
     "data": {
      "image/png": "[encoded data removed]",
      "text/plain": [
       "<matplotlib.figure.Figure at 0x22738cba3c8>"
      ]
     },
     "metadata": {},
     "output_type": "display_data"
    }
   ],
   "source": [
    "MediaAmostral1 = []\n",
    "\n",
    "for i in range(10000): \n",
    "    Media1 = []\n",
    "    \n",
    "    for u in range(20):      \n",
    "        Media1.append(np.random.choice(T))  \n",
    "        \n",
    "    MediaAm1 = sum(Media1)/4\n",
    "    MediaAmostral1.append(MediaAm1)\n",
    "\n",
    "EspMed1 = np.mean(MediaAmostral1)\n",
    "VarMed1 = np.var(MediaAmostral1)\n",
    "\n",
    "print(\"Media das Medias amostrais: \",EspMed1)\n",
    "print(\"Varianca das Medias amostrais: \",VarMed1)\n",
    "\n",
    "MediaAmostral1 = sorted(MediaAmostral1)\n",
    "pd.Series(MediaAmostral1)\n",
    "\n",
    "plt.hist(MediaAmostral2, bins = np.arange(0,6,0.3), color = ('b'), normed = 1)\n",
    "plt.ylabel(\"Densidade\")\n",
    "plt.xlabel(\"Media Amostral\")\n",
    "plt.show()"
   ]
  },
  {
   "cell_type": "markdown",
   "metadata": {},
   "source": [
    "-------------\n",
    "Nesse momento será realizado uma aproximação com uma amostra igual a 20\n",
    "---------------"
   ]
  },
  {
   "cell_type": "code",
   "execution_count": 41,
   "metadata": {
    "collapsed": false
   },
   "outputs": [
    {
     "name": "stdout",
     "output_type": "stream",
     "text": [
      "Media das Medias amostrais:  3.00155249148\n",
      "Varianca das Medias amostrais:  0.4919637288\n"
     ]
    },
    {
     "data": {
      "image/png": "[encoded data removed]",
      "text/plain": [
       "<matplotlib.figure.Figure at 0x22738fcc908>"
      ]
     },
     "metadata": {},
     "output_type": "display_data"
    }
   ],
   "source": [
    "MediaAmostral2 = []\n",
    "\n",
    "for i in range(10000): \n",
    "    Media2 = []\n",
    "    \n",
    "    for u in range(20):      \n",
    "        Media2.append(np.random.choice(T))  \n",
    "        \n",
    "    MediaAm2 = sum(Media2)/20\n",
    "    MediaAmostral2.append(MediaAm2)\n",
    "\n",
    "EspMed2 = np.mean(MediaAmostral2)\n",
    "VarMed2 = np.var(MediaAmostral2)\n",
    "\n",
    "print(\"Media das Medias amostrais: \",EspMed2)\n",
    "print(\"Varianca das Medias amostrais: \",VarMed2)\n",
    "\n",
    "MediaAmostral2 = sorted(MediaAmostral2)\n",
    "pd.Series(MediaAmostral2)\n",
    "\n",
    "plt.hist(MediaAmostral2, bins = np.arange(0,6,0.3), color = ('y'),alpha = 0.5, normed = 1)\n",
    "plt.ylabel(\"Densidade\")\n",
    "plt.xlabel(\"Media Amostral\")\n",
    "plt.show()"
   ]
  },
  {
   "cell_type": "markdown",
   "metadata": {},
   "source": [
    "-------------\n",
    "Agora será realizado uma aproximação com uma amostra igual a 50\n",
    "---------------"
   ]
  },
  {
   "cell_type": "code",
   "execution_count": 42,
   "metadata": {
    "collapsed": false
   },
   "outputs": [
    {
     "name": "stdout",
     "output_type": "stream",
     "text": [
      "Media das Medias amostrais:  2.99744550947\n",
      "Varianca das Medias amostrais:  0.200973376937\n"
     ]
    },
    {
     "data": {
      "image/png": "[encoded data removed]",
      "text/plain": [
       "<matplotlib.figure.Figure at 0x22738cc1828>"
      ]
     },
     "metadata": {},
     "output_type": "display_data"
    }
   ],
   "source": [
    "MediaAmostral3 = []\n",
    "\n",
    "for i in range(10000): \n",
    "    Media3 = []\n",
    "    \n",
    "    for u in range(50):      \n",
    "        Media3.append(np.random.choice(T))  \n",
    "        \n",
    "    MediaAm3 = sum(Media3)/50\n",
    "    MediaAmostral3.append(MediaAm3)\n",
    "\n",
    "EspMed3 = np.mean(MediaAmostral3)\n",
    "VarMed3 = np.var(MediaAmostral3)\n",
    "\n",
    "print(\"Media das Medias amostrais: \",EspMed3)\n",
    "print(\"Varianca das Medias amostrais: \",VarMed3)\n",
    "\n",
    "MediaAmostral3 = sorted(MediaAmostral3)\n",
    "pd.Series(MediaAmostral3)\n",
    "\n",
    "plt.hist(MediaAmostral3, bins = np.arange(0,6,0.3), normed = 1)\n",
    "plt.ylabel(\"Densidade\")\n",
    "plt.xlabel(\"Media Amostral\")\n",
    "plt.show()"
   ]
  },
  {
   "cell_type": "markdown",
   "metadata": {},
   "source": [
    "Agora todos os gráficos juntos no interesse de comparação"
   ]
  },
  {
   "cell_type": "code",
   "execution_count": 43,
   "metadata": {
    "collapsed": false
   },
   "outputs": [
    {
     "data": {
      "image/png": "[encoded data removed]",
      "text/plain": [
       "<matplotlib.figure.Figure at 0x227388ebf98>"
      ]
     },
     "metadata": {},
     "output_type": "display_data"
    }
   ],
   "source": [
    "plt.hist(MediaAmostral, bins = np.arange(0,6,0.3),alpha = 0.2, normed = 1)\n",
    "plt.hist(MediaAmostral1, bins = np.arange(0,6,0.3), alpha = 0.3,normed = 1)\n",
    "plt.hist(MediaAmostral2, bins = np.arange(0,6,0.3),alpha = 0.4, normed = 1)\n",
    "plt.hist(MediaAmostral3, bins = np.arange(0,6,0.3),alpha = 0.5, normed = 1)\n",
    "plt.ylabel(\"Densidade\")\n",
    "plt.xlabel(\"Media Amostral\")\n",
    "plt.show()"
   ]
  },
  {
   "cell_type": "markdown",
   "metadata": {},
   "source": [
    "Dessa forma é visível uma formação da normal mais consistente para a distribuição das médias"
   ]
  },
  {
   "cell_type": "code",
   "execution_count": null,
   "metadata": {
    "collapsed": true
   },
   "outputs": [],
   "source": []
  },
  {
   "cell_type": "code",
   "execution_count": 44,
   "metadata": {
    "collapsed": true
   },
   "outputs": [],
   "source": [
    "MediaX3 = []\n",
    "MediaX15 = []\n",
    "\n",
    "for i in range(10000): \n",
    "    Media5 = []\n",
    "    \n",
    "    for u in range(50):  \n",
    "        X =  np.random.choice(T)\n",
    "        Media5.append(X)  \n",
    "        \n",
    "        if u == 0:\n",
    "            MediaX3.append(X)\n",
    "        if u == 8:\n",
    "            MediaX15.append(X)\n"
   ]
  },
  {
   "cell_type": "code",
   "execution_count": 45,
   "metadata": {
    "collapsed": false
   },
   "outputs": [
    {
     "data": {
      "image/png": "[encoded data removed]",
      "text/plain": [
       "<matplotlib.figure.Figure at 0x22738d7ef60>"
      ]
     },
     "metadata": {},
     "output_type": "display_data"
    }
   ],
   "source": [
    "plt.hist(MediaX3, bins = np.arange(-4,10,0.5), normed = 1)\n",
    "plt.ylabel(\"Densidade\")\n",
    "plt.xlabel(\"Valores de X3\")\n",
    "plt.show()"
   ]
  },
  {
   "cell_type": "code",
   "execution_count": 46,
   "metadata": {
    "collapsed": false
   },
   "outputs": [
    {
     "data": {
      "image/png": "[encoded data removed]",
      "text/plain": [
       "<matplotlib.figure.Figure at 0x22738b62eb8>"
      ]
     },
     "metadata": {},
     "output_type": "display_data"
    }
   ],
   "source": [
    "plt.hist(MediaX15, bins = np.arange(-4,10,0.5), normed = 1)\n",
    "plt.ylabel(\"Densidade\")\n",
    "plt.xlabel(\"Valores de X15\")\n",
    "plt.show()"
   ]
  },
  {
   "cell_type": "code",
   "execution_count": 49,
   "metadata": {
    "collapsed": false
   },
   "outputs": [
    {
     "data": {
      "text/plain": [
       "(array([ 0.00327098,  0.00592865,  0.00408873,  0.00613309,  0.01103956,\n",
       "         0.01103956,  0.01676377,  0.02351017,  0.03557191,  0.05294899,\n",
       "         0.09138301,  0.15680262,  0.24920781,  0.34263518,  0.35674129,\n",
       "         0.2367372 ,  0.15066953,  0.09424512,  0.04926914,  0.03454973,\n",
       "         0.0186037 ,  0.01492385,  0.01124399,  0.00776858,  0.00551978,\n",
       "         0.00511091,  0.00429316]),\n",
       " array([-4. , -3.5, -3. , -2.5, -2. , -1.5, -1. , -0.5,  0. ,  0.5,  1. ,\n",
       "         1.5,  2. ,  2.5,  3. ,  3.5,  4. ,  4.5,  5. ,  5.5,  6. ,  6.5,\n",
       "         7. ,  7.5,  8. ,  8.5,  9. ,  9.5]),\n",
       " <a list of 27 Patch objects>)"
      ]
     },
     "execution_count": 49,
     "metadata": {},
     "output_type": "execute_result"
    },
    {
     "data": {
      "image/png": "[encoded data removed]",
      "text/plain": [
       "<matplotlib.figure.Figure at 0x22738cae0b8>"
      ]
     },
     "metadata": {},
     "output_type": "display_data"
    }
   ],
   "source": [
    "plt.hist(MediaX15, bins = np.arange(-4,10,0.5),alpha = 0.5, normed = 1)\n",
    "plt.hist(MediaX3, bins = np.arange(-4,10,0.5),alpha = 0.5, normed = 1)"
   ]
  },
  {
   "cell_type": "code",
   "execution_count": 48,
   "metadata": {
    "collapsed": false
   },
   "outputs": [
    {
     "name": "stdout",
     "output_type": "stream",
     "text": [
      "Correlação entre X3 e X15: 0.0108378640625\n"
     ]
    }
   ],
   "source": [
    "print(\"Correlação entre X3 e X15:\", np.corrcoef(MediaX3, MediaX15)[0,1])"
   ]
  },
  {
   "cell_type": "markdown",
   "metadata": {
    "collapsed": true
   },
   "source": [
    "___\n",
    "## Estudo da Distribuição de  $\\frac{\\bar{X}-\\mu}{\\sigma\\hspace{1mm}/\\sqrt{n}}$  e de $\\frac{\\bar{X}-\\mu}{S\\hspace{1mm}/\\sqrt{n}}$ via SIMULAÇÃO"
   ]
  },
  {
   "cell_type": "markdown",
   "metadata": {
    "collapsed": true
   },
   "source": [
    "acabei me desligando por uma semana, agora são 23:20 da noite de quinta. E realmente não consigo terminar \n",
    "## sorry"
   ]
  },
  {
   "cell_type": "code",
   "execution_count": null,
   "metadata": {
    "collapsed": true
   },
   "outputs": [],
   "source": []
  },
  {
   "cell_type": "code",
   "execution_count": null,
   "metadata": {
    "collapsed": true
   },
   "outputs": [],
   "source": []
  },
  {
   "cell_type": "code",
   "execution_count": null,
   "metadata": {
    "collapsed": true
   },
   "outputs": [],
   "source": []
  }
 ],
 "metadata": {
  "anaconda-cloud": {},
  "kernelspec": {
   "display_name": "Python 3",
   "language": "python",
   "name": "python3"
  },
  "language_info": {
   "codemirror_mode": {
    "name": "ipython",
    "version": 3
   },
   "file_extension": ".py",
   "mimetype": "text/x-python",
   "name": "python",
   "nbconvert_exporter": "python",
   "pygments_lexer": "ipython3",
   "version": "3.5.1"
  }
 },
 "nbformat": 4,
 "nbformat_minor": 0
}
